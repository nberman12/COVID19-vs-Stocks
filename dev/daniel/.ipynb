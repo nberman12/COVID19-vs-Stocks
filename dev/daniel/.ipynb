{
 "cells": [
  {
   "cell_type": "code",
   "execution_count": 1,
   "metadata": {},
   "outputs": [],
   "source": [
    "from pprint import pprint\n",
    "import time\n",
    "import requests\n",
    "import pandas as pd\n",
    "from config import rapidapi_key\n",
    "#from datetime import datetime\n",
    "import matplotlib.pyplot as plt\n",
    "import datetime\n",
    "import math"
   ]
  },
  {
   "cell_type": "markdown",
   "metadata": {},
   "source": [
    "## Italy Index"
   ]
  },
  {
   "cell_type": "code",
   "execution_count": 2,
   "metadata": {},
   "outputs": [],
   "source": [
    "italy_df = pd.read_csv(\"italy_index/FTSE Italia All Share Historical Data.csv\")"
   ]
  },
  {
   "cell_type": "code",
   "execution_count": 3,
   "metadata": {},
   "outputs": [
    {
     "data": {
      "text/html": [
       "<div>\n",
       "<style scoped>\n",
       "    .dataframe tbody tr th:only-of-type {\n",
       "        vertical-align: middle;\n",
       "    }\n",
       "\n",
       "    .dataframe tbody tr th {\n",
       "        vertical-align: top;\n",
       "    }\n",
       "\n",
       "    .dataframe thead th {\n",
       "        text-align: right;\n",
       "    }\n",
       "</style>\n",
       "<table border=\"1\" class=\"dataframe\">\n",
       "  <thead>\n",
       "    <tr style=\"text-align: right;\">\n",
       "      <th></th>\n",
       "      <th>Date</th>\n",
       "      <th>Price</th>\n",
       "      <th>Open</th>\n",
       "      <th>High</th>\n",
       "      <th>Low</th>\n",
       "      <th>Vol.</th>\n",
       "      <th>Change %</th>\n",
       "      <th>Timestamp</th>\n",
       "    </tr>\n",
       "  </thead>\n",
       "  <tbody>\n",
       "    <tr>\n",
       "      <th>0</th>\n",
       "      <td>2020-3-20</td>\n",
       "      <td>17171.55</td>\n",
       "      <td>17209.93</td>\n",
       "      <td>17628.87</td>\n",
       "      <td>17047.73</td>\n",
       "      <td>1500000000</td>\n",
       "      <td>1.85</td>\n",
       "      <td>1584662400</td>\n",
       "    </tr>\n",
       "    <tr>\n",
       "      <th>1</th>\n",
       "      <td>2020-3-19</td>\n",
       "      <td>16859.82</td>\n",
       "      <td>16814.38</td>\n",
       "      <td>17240.13</td>\n",
       "      <td>16438.49</td>\n",
       "      <td>1270000000</td>\n",
       "      <td>2.27</td>\n",
       "      <td>1584576000</td>\n",
       "    </tr>\n",
       "    <tr>\n",
       "      <th>2</th>\n",
       "      <td>2020-3-18</td>\n",
       "      <td>16486.21</td>\n",
       "      <td>16372.27</td>\n",
       "      <td>16785.57</td>\n",
       "      <td>16149.48</td>\n",
       "      <td>992760000</td>\n",
       "      <td>-1.17</td>\n",
       "      <td>1584489600</td>\n",
       "    </tr>\n",
       "    <tr>\n",
       "      <th>3</th>\n",
       "      <td>2020-3-17</td>\n",
       "      <td>16680.56</td>\n",
       "      <td>16850.34</td>\n",
       "      <td>17238.59</td>\n",
       "      <td>16065.72</td>\n",
       "      <td>1400000000</td>\n",
       "      <td>1.96</td>\n",
       "      <td>1584403200</td>\n",
       "    </tr>\n",
       "    <tr>\n",
       "      <th>4</th>\n",
       "      <td>2020-3-16</td>\n",
       "      <td>16360.04</td>\n",
       "      <td>17130.96</td>\n",
       "      <td>17130.96</td>\n",
       "      <td>15498.19</td>\n",
       "      <td>1540000000</td>\n",
       "      <td>-6.06</td>\n",
       "      <td>1584316800</td>\n",
       "    </tr>\n",
       "    <tr>\n",
       "      <th>...</th>\n",
       "      <td>...</td>\n",
       "      <td>...</td>\n",
       "      <td>...</td>\n",
       "      <td>...</td>\n",
       "      <td>...</td>\n",
       "      <td>...</td>\n",
       "      <td>...</td>\n",
       "      <td>...</td>\n",
       "    </tr>\n",
       "    <tr>\n",
       "      <th>321</th>\n",
       "      <td>2018-12-7</td>\n",
       "      <td>20597.68</td>\n",
       "      <td>20650.69</td>\n",
       "      <td>20818.51</td>\n",
       "      <td>20597.68</td>\n",
       "      <td>616630000</td>\n",
       "      <td>0.49</td>\n",
       "      <td>1544140800</td>\n",
       "    </tr>\n",
       "    <tr>\n",
       "      <th>322</th>\n",
       "      <td>2018-12-6</td>\n",
       "      <td>20496.44</td>\n",
       "      <td>21014.83</td>\n",
       "      <td>21014.83</td>\n",
       "      <td>20433.79</td>\n",
       "      <td>1090000000</td>\n",
       "      <td>-3.38</td>\n",
       "      <td>1544054400</td>\n",
       "    </tr>\n",
       "    <tr>\n",
       "      <th>323</th>\n",
       "      <td>2018-12-5</td>\n",
       "      <td>21213.03</td>\n",
       "      <td>21041.15</td>\n",
       "      <td>21287.70</td>\n",
       "      <td>20990.68</td>\n",
       "      <td>691120000</td>\n",
       "      <td>-0.19</td>\n",
       "      <td>1543968000</td>\n",
       "    </tr>\n",
       "    <tr>\n",
       "      <th>324</th>\n",
       "      <td>2018-12-4</td>\n",
       "      <td>21254.03</td>\n",
       "      <td>21494.44</td>\n",
       "      <td>21517.80</td>\n",
       "      <td>21254.03</td>\n",
       "      <td>961020000</td>\n",
       "      <td>-1.26</td>\n",
       "      <td>1543881600</td>\n",
       "    </tr>\n",
       "    <tr>\n",
       "      <th>325</th>\n",
       "      <td>2018-12-3</td>\n",
       "      <td>21525.70</td>\n",
       "      <td>21476.90</td>\n",
       "      <td>21567.83</td>\n",
       "      <td>21421.42</td>\n",
       "      <td>1520000000</td>\n",
       "      <td>2.22</td>\n",
       "      <td>1543795200</td>\n",
       "    </tr>\n",
       "  </tbody>\n",
       "</table>\n",
       "<p>326 rows × 8 columns</p>\n",
       "</div>"
      ],
      "text/plain": [
       "          Date     Price      Open      High       Low        Vol.  Change %  \\\n",
       "0    2020-3-20  17171.55  17209.93  17628.87  17047.73  1500000000      1.85   \n",
       "1    2020-3-19  16859.82  16814.38  17240.13  16438.49  1270000000      2.27   \n",
       "2    2020-3-18  16486.21  16372.27  16785.57  16149.48   992760000     -1.17   \n",
       "3    2020-3-17  16680.56  16850.34  17238.59  16065.72  1400000000      1.96   \n",
       "4    2020-3-16  16360.04  17130.96  17130.96  15498.19  1540000000     -6.06   \n",
       "..         ...       ...       ...       ...       ...         ...       ...   \n",
       "321  2018-12-7  20597.68  20650.69  20818.51  20597.68   616630000      0.49   \n",
       "322  2018-12-6  20496.44  21014.83  21014.83  20433.79  1090000000     -3.38   \n",
       "323  2018-12-5  21213.03  21041.15  21287.70  20990.68   691120000     -0.19   \n",
       "324  2018-12-4  21254.03  21494.44  21517.80  21254.03   961020000     -1.26   \n",
       "325  2018-12-3  21525.70  21476.90  21567.83  21421.42  1520000000      2.22   \n",
       "\n",
       "      Timestamp  \n",
       "0    1584662400  \n",
       "1    1584576000  \n",
       "2    1584489600  \n",
       "3    1584403200  \n",
       "4    1584316800  \n",
       "..          ...  \n",
       "321  1544140800  \n",
       "322  1544054400  \n",
       "323  1543968000  \n",
       "324  1543881600  \n",
       "325  1543795200  \n",
       "\n",
       "[326 rows x 8 columns]"
      ]
     },
     "execution_count": 3,
     "metadata": {},
     "output_type": "execute_result"
    }
   ],
   "source": [
    "italy_df"
   ]
  },
  {
   "cell_type": "code",
   "execution_count": 117,
   "metadata": {},
   "outputs": [
    {
     "data": {
      "text/html": [
       "<div>\n",
       "<style scoped>\n",
       "    .dataframe tbody tr th:only-of-type {\n",
       "        vertical-align: middle;\n",
       "    }\n",
       "\n",
       "    .dataframe tbody tr th {\n",
       "        vertical-align: top;\n",
       "    }\n",
       "\n",
       "    .dataframe thead th {\n",
       "        text-align: right;\n",
       "    }\n",
       "</style>\n",
       "<table border=\"1\" class=\"dataframe\">\n",
       "  <thead>\n",
       "    <tr style=\"text-align: right;\">\n",
       "      <th></th>\n",
       "      <th>Date</th>\n",
       "      <th>Annual Volatility</th>\n",
       "      <th>Timestamp</th>\n",
       "    </tr>\n",
       "  </thead>\n",
       "  <tbody>\n",
       "    <tr>\n",
       "      <th>0</th>\n",
       "      <td>2020-03-20</td>\n",
       "      <td>27.592528</td>\n",
       "      <td>1584662400</td>\n",
       "    </tr>\n",
       "    <tr>\n",
       "      <th>1</th>\n",
       "      <td>2020-03-19</td>\n",
       "      <td>27.525696</td>\n",
       "      <td>1584576000</td>\n",
       "    </tr>\n",
       "    <tr>\n",
       "      <th>2</th>\n",
       "      <td>2020-03-18</td>\n",
       "      <td>27.440077</td>\n",
       "      <td>1584489600</td>\n",
       "    </tr>\n",
       "    <tr>\n",
       "      <th>3</th>\n",
       "      <td>2020-03-17</td>\n",
       "      <td>27.435507</td>\n",
       "      <td>1584403200</td>\n",
       "    </tr>\n",
       "    <tr>\n",
       "      <th>4</th>\n",
       "      <td>2020-03-16</td>\n",
       "      <td>27.411226</td>\n",
       "      <td>1584316800</td>\n",
       "    </tr>\n",
       "  </tbody>\n",
       "</table>\n",
       "</div>"
      ],
      "text/plain": [
       "        Date  Annual Volatility   Timestamp\n",
       "0 2020-03-20          27.592528  1584662400\n",
       "1 2020-03-19          27.525696  1584576000\n",
       "2 2020-03-18          27.440077  1584489600\n",
       "3 2020-03-17          27.435507  1584403200\n",
       "4 2020-03-16          27.411226  1584316800"
      ]
     },
     "execution_count": 117,
     "metadata": {},
     "output_type": "execute_result"
    }
   ],
   "source": [
    "\n",
    "volatile_yr_avg = []\n",
    "yearlyGroups = []\n",
    "yearlyTimestamp = []\n",
    "for i in range(0,len(italy_df['Timestamp'])):\n",
    "    try:\n",
    "        cond1 = italy_df['Timestamp']<=italy_df['Timestamp'][i]\n",
    "        cond2 = (pd.Series(italy_df['Timestamp']>=(italy_df['Timestamp'][i]-(365*24*60*60))))\n",
    "        df = italy_df[cond1 & cond2]\n",
    "        #print('working')\n",
    "        if len(df)>251:  #avoids sets less than a full year\n",
    "            volatile_yr_avg.append(df.std()['Change %']*math.sqrt(252)) #annual volatility (stdev * sqrt(252))\n",
    "            yearlyGroups.append(italy_df['Date'][i])\n",
    "            yearlyTimestamp.append(italy_df['Timestamp'][i])\n",
    "    except:\n",
    "        print('Error Found')\n",
    "volatile_italy_dict = {\"Date\":yearlyGroups,\n",
    "                    \"Annual Volatility\":volatile_yr_avg,\n",
    "                       \"Timestamp\":yearlyTimestamp\n",
    "                    }\n",
    "volatile_italy_df = pd.DataFrame(volatile_italy_dict)\n",
    "volatile_italy_df['Date']=pd.to_datetime(volatile_italy_df['Date'])\n",
    "volatile_italy_df.head()"
   ]
  },
  {
   "cell_type": "code",
   "execution_count": 119,
   "metadata": {},
   "outputs": [
    {
     "data": {
      "text/plain": [
       "[<matplotlib.lines.Line2D at 0x207b0635b38>]"
      ]
     },
     "execution_count": 119,
     "metadata": {},
     "output_type": "execute_result"
    },
    {
     "data": {
      "image/png": "[encoded data removed]",
      "text/plain": [
       "<Figure size 432x288 with 1 Axes>"
      ]
     },
     "metadata": {
      "needs_background": "light"
     },
     "output_type": "display_data"
    }
   ],
   "source": [
    "plt.plot(volatile_italy_df['Date'],volatile_italy_df['Annual Volatility'])\n",
    "#volatile_italy_df.plot('Date','Annual Volatility',kind = 'scatter')"
   ]
  },
  {
   "cell_type": "markdown",
   "metadata": {},
   "source": [
    "## S&P 500"
   ]
  },
  {
   "cell_type": "code",
   "execution_count": 6,
   "metadata": {},
   "outputs": [],
   "source": [
    "curr_time = int(time.time())\n",
    "#prior_year = curr_time-(60*60*24*365)\n",
    "prior_year = 1543622400  # unix for December 01,2018\n",
    "ticker_symbol = \"^GSPC\""
   ]
  },
  {
   "cell_type": "code",
   "execution_count": 7,
   "metadata": {},
   "outputs": [],
   "source": [
    "url = \"https://apidojo-yahoo-finance-v1.p.rapidapi.com/stock/get-histories\"\n",
    "\n",
    "querystring = {\"region\":\"US\",\"lang\":\"en\",\"symbol\":ticker_symbol,\"from\":prior_year,\"to\":curr_time,\"events\":\"div\",\"events\":\"split\",\"events\":\"earn\",\"interval\":\"1d\"}\n",
    "\n",
    "headers = {\n",
    "    'x-rapidapi-host': \"apidojo-yahoo-finance-v1.p.rapidapi.com\",\n",
    "    'x-rapidapi-key': rapidapi_key\n",
    "    }\n",
    "\n",
    "response = requests.request(\"GET\", url, headers=headers, params=querystring)\n"
   ]
  },
  {
   "cell_type": "code",
   "execution_count": 8,
   "metadata": {
    "scrolled": false
   },
   "outputs": [
    {
     "data": {
      "text/html": [
       "<div>\n",
       "<style scoped>\n",
       "    .dataframe tbody tr th:only-of-type {\n",
       "        vertical-align: middle;\n",
       "    }\n",
       "\n",
       "    .dataframe tbody tr th {\n",
       "        vertical-align: top;\n",
       "    }\n",
       "\n",
       "    .dataframe thead th {\n",
       "        text-align: right;\n",
       "    }\n",
       "</style>\n",
       "<table border=\"1\" class=\"dataframe\">\n",
       "  <thead>\n",
       "    <tr style=\"text-align: right;\">\n",
       "      <th></th>\n",
       "      <th>Timestamp</th>\n",
       "      <th>Open</th>\n",
       "      <th>Close</th>\n",
       "      <th>Volume</th>\n",
       "      <th>Adjclose</th>\n",
       "      <th>Change %</th>\n",
       "      <th>Date</th>\n",
       "      <th>Last Year</th>\n",
       "    </tr>\n",
       "  </thead>\n",
       "  <tbody>\n",
       "    <tr>\n",
       "      <th>0</th>\n",
       "      <td>1543847400</td>\n",
       "      <td>2790.500000</td>\n",
       "      <td>2790.370117</td>\n",
       "      <td>4186060000</td>\n",
       "      <td>2790.370117</td>\n",
       "      <td>-0.000047</td>\n",
       "      <td>2018-12-03</td>\n",
       "      <td>2017-12-03</td>\n",
       "    </tr>\n",
       "    <tr>\n",
       "      <th>1</th>\n",
       "      <td>1543933800</td>\n",
       "      <td>2782.429932</td>\n",
       "      <td>2700.060059</td>\n",
       "      <td>4499840000</td>\n",
       "      <td>2700.060059</td>\n",
       "      <td>-0.029604</td>\n",
       "      <td>2018-12-04</td>\n",
       "      <td>2017-12-04</td>\n",
       "    </tr>\n",
       "    <tr>\n",
       "      <th>2</th>\n",
       "      <td>1544106600</td>\n",
       "      <td>2663.510010</td>\n",
       "      <td>2695.949951</td>\n",
       "      <td>5141470000</td>\n",
       "      <td>2695.949951</td>\n",
       "      <td>0.012179</td>\n",
       "      <td>2018-12-06</td>\n",
       "      <td>2017-12-06</td>\n",
       "    </tr>\n",
       "    <tr>\n",
       "      <th>3</th>\n",
       "      <td>1544193000</td>\n",
       "      <td>2691.260010</td>\n",
       "      <td>2633.080078</td>\n",
       "      <td>4216690000</td>\n",
       "      <td>2633.080078</td>\n",
       "      <td>-0.021618</td>\n",
       "      <td>2018-12-07</td>\n",
       "      <td>2017-12-07</td>\n",
       "    </tr>\n",
       "    <tr>\n",
       "      <th>4</th>\n",
       "      <td>1544452200</td>\n",
       "      <td>2630.860107</td>\n",
       "      <td>2637.719971</td>\n",
       "      <td>4151030000</td>\n",
       "      <td>2637.719971</td>\n",
       "      <td>0.002607</td>\n",
       "      <td>2018-12-10</td>\n",
       "      <td>2017-12-10</td>\n",
       "    </tr>\n",
       "  </tbody>\n",
       "</table>\n",
       "</div>"
      ],
      "text/plain": [
       "    Timestamp         Open        Close      Volume     Adjclose  Change %  \\\n",
       "0  1543847400  2790.500000  2790.370117  4186060000  2790.370117 -0.000047   \n",
       "1  1543933800  2782.429932  2700.060059  4499840000  2700.060059 -0.029604   \n",
       "2  1544106600  2663.510010  2695.949951  5141470000  2695.949951  0.012179   \n",
       "3  1544193000  2691.260010  2633.080078  4216690000  2633.080078 -0.021618   \n",
       "4  1544452200  2630.860107  2637.719971  4151030000  2637.719971  0.002607   \n",
       "\n",
       "         Date  Last Year  \n",
       "0  2018-12-03 2017-12-03  \n",
       "1  2018-12-04 2017-12-04  \n",
       "2  2018-12-06 2017-12-06  \n",
       "3  2018-12-07 2017-12-07  \n",
       "4  2018-12-10 2017-12-10  "
      ]
     },
     "execution_count": 8,
     "metadata": {},
     "output_type": "execute_result"
    }
   ],
   "source": [
    "timestamp = response.json()['chart']['result'][0]['timestamp']\n",
    "year_close = response.json()['chart']['result'][0]['indicators']['quote'][0]['close']\n",
    "year_open =response.json()['chart']['result'][0]['indicators']['quote'][0]['open']\n",
    "year_volume =response.json()['chart']['result'][0]['indicators']['quote'][0]['volume']\n",
    "year_adjclose =response.json()['chart']['result'][0]['indicators']['adjclose'][0]['adjclose']\n",
    "\n",
    "smpDict = {\"Timestamp\":timestamp,\n",
    "           \"Open\":year_open,\n",
    "          \"Close\":year_close,\n",
    "           \"Volume\":year_volume,\n",
    "          \"Adjclose\":year_adjclose\n",
    "          }\n",
    "smp_df = pd.DataFrame(smpDict)\n",
    "smp_df['Change %'] = (smp_df['Close']-smp_df['Open'])/smp_df['Open']\n",
    "\n",
    "convert_date = []\n",
    "convert_date = [datetime.datetime.utcfromtimestamp(smp_df['Timestamp'][x]).strftime('%Y-%m-%d') for x in range(0,len(smp_df['Timestamp']))]\n",
    "smp_df['Date'] = convert_date\n",
    "\n",
    "\n",
    "smp_df['Last Year'] =[datetime.datetime.strptime(smp_df['Date'][x],'%Y-%m-%d')-datetime.timedelta(365) for x in range(0,len(smp_df['Date']))]\n",
    "\n",
    "\n",
    "\n",
    "\n",
    "smp_df.head()\n"
   ]
  },
  {
   "cell_type": "code",
   "execution_count": 121,
   "metadata": {
    "scrolled": false
   },
   "outputs": [
    {
     "data": {
      "text/html": [
       "<div>\n",
       "<style scoped>\n",
       "    .dataframe tbody tr th:only-of-type {\n",
       "        vertical-align: middle;\n",
       "    }\n",
       "\n",
       "    .dataframe tbody tr th {\n",
       "        vertical-align: top;\n",
       "    }\n",
       "\n",
       "    .dataframe thead th {\n",
       "        text-align: right;\n",
       "    }\n",
       "</style>\n",
       "<table border=\"1\" class=\"dataframe\">\n",
       "  <thead>\n",
       "    <tr style=\"text-align: right;\">\n",
       "      <th></th>\n",
       "      <th>Date</th>\n",
       "      <th>Annual Volatility</th>\n",
       "      <th>Timestamp</th>\n",
       "    </tr>\n",
       "  </thead>\n",
       "  <tbody>\n",
       "    <tr>\n",
       "      <th>0</th>\n",
       "      <td>2019-12-03</td>\n",
       "      <td>11.981884</td>\n",
       "      <td>1575383400</td>\n",
       "    </tr>\n",
       "    <tr>\n",
       "      <th>1</th>\n",
       "      <td>2019-12-04</td>\n",
       "      <td>11.985080</td>\n",
       "      <td>1575469800</td>\n",
       "    </tr>\n",
       "    <tr>\n",
       "      <th>2</th>\n",
       "      <td>2019-12-05</td>\n",
       "      <td>11.605491</td>\n",
       "      <td>1575556200</td>\n",
       "    </tr>\n",
       "    <tr>\n",
       "      <th>3</th>\n",
       "      <td>2019-12-06</td>\n",
       "      <td>11.610007</td>\n",
       "      <td>1575642600</td>\n",
       "    </tr>\n",
       "    <tr>\n",
       "      <th>4</th>\n",
       "      <td>2019-12-09</td>\n",
       "      <td>11.339866</td>\n",
       "      <td>1575901800</td>\n",
       "    </tr>\n",
       "  </tbody>\n",
       "</table>\n",
       "</div>"
      ],
      "text/plain": [
       "        Date  Annual Volatility   Timestamp\n",
       "0 2019-12-03          11.981884  1575383400\n",
       "1 2019-12-04          11.985080  1575469800\n",
       "2 2019-12-05          11.605491  1575556200\n",
       "3 2019-12-06          11.610007  1575642600\n",
       "4 2019-12-09          11.339866  1575901800"
      ]
     },
     "execution_count": 121,
     "metadata": {},
     "output_type": "execute_result"
    }
   ],
   "source": [
    "volatile_yr_avg = []\n",
    "yearlyGroups = []\n",
    "yearlyTimestamp = []\n",
    "for i in range(0,len(smp_df['Timestamp'])):\n",
    "    try:\n",
    "        cond1 = smp_df['Timestamp']<=smp_df['Timestamp'][i]\n",
    "        cond2 = (pd.Series(smp_df['Timestamp']>=(smp_df['Timestamp'][i]-(365*24*60*60))))\n",
    "        df = smp_df[cond1 & cond2]\n",
    "        #print('working')\n",
    "        if len(df)>251:  #avoids sets less than a full year\n",
    "            volatile_yr_avg.append(df.std()['Change %']*math.sqrt(len(df))*100) #annual volatility (stdev * sqrt(252))\n",
    "            yearlyGroups.append(smp_df['Date'][i]) \n",
    "            yearlyTimestamp.append(smp_df['Timestamp'][i])\n",
    "    except:\n",
    "        print('Error Found')\n",
    "volatile_smp_dict = {\"Date\":yearlyGroups,\n",
    "                    \"Annual Volatility\":volatile_yr_avg,\n",
    "                     \"Timestamp\":yearlyTimestamp\n",
    "                    }\n",
    "volatile_smp_df = pd.DataFrame(volatile_smp_dict)\n",
    "volatile_smp_df['Date']=pd.to_datetime(volatile_smp_df['Date'])\n",
    "volatile_smp_df.head()"
   ]
  },
  {
   "cell_type": "code",
   "execution_count": 122,
   "metadata": {},
   "outputs": [
    {
     "data": {
      "text/plain": [
       "[<matplotlib.lines.Line2D at 0x207b2151710>]"
      ]
     },
     "execution_count": 122,
     "metadata": {},
     "output_type": "execute_result"
    },
    {
     "data": {
      "image/png": "[encoded data removed]",
      "text/plain": [
       "<Figure size 432x288 with 1 Axes>"
      ]
     },
     "metadata": {
      "needs_background": "light"
     },
     "output_type": "display_data"
    }
   ],
   "source": [
    "plt.plot(volatile_smp_df['Date'],volatile_smp_df['Annual Volatility'])\n",
    "\n",
    "\n",
    "#volatile_smp_df.plot('Timestamp','Annual Volatility',kind = 'scatter')"
   ]
  },
  {
   "cell_type": "markdown",
   "metadata": {},
   "source": [
    "## SSE Composite Index"
   ]
  },
  {
   "cell_type": "code",
   "execution_count": 57,
   "metadata": {},
   "outputs": [],
   "source": [
    "curr_time = int(time.time())\n",
    "#prior_year = curr_time-(60*60*24*365)\n",
    "prior_year = 1543622400  # unix for December 01,2018\n",
    "\n",
    "ticker_symbol = \"000001.SS\"\n",
    "\n",
    "url = \"https://apidojo-yahoo-finance-v1.p.rapidapi.com/stock/get-histories\"\n",
    "\n",
    "querystring = {\"region\":\"US\",\"lang\":\"en\",\"symbol\":ticker_symbol,\"from\":prior_year,\"to\":curr_time,\"events\":\"div\",\"events\":\"split\",\"events\":\"earn\",\"interval\":\"1d\"}\n",
    "\n",
    "headers = {\n",
    "    'x-rapidapi-host': \"apidojo-yahoo-finance-v1.p.rapidapi.com\",\n",
    "    'x-rapidapi-key': rapidapi_key\n",
    "    }\n",
    "\n",
    "response2 = requests.request(\"GET\", url, headers=headers, params=querystring)\n"
   ]
  },
  {
   "cell_type": "code",
   "execution_count": 59,
   "metadata": {},
   "outputs": [
    {
     "data": {
      "text/html": [
       "<div>\n",
       "<style scoped>\n",
       "    .dataframe tbody tr th:only-of-type {\n",
       "        vertical-align: middle;\n",
       "    }\n",
       "\n",
       "    .dataframe tbody tr th {\n",
       "        vertical-align: top;\n",
       "    }\n",
       "\n",
       "    .dataframe thead th {\n",
       "        text-align: right;\n",
       "    }\n",
       "</style>\n",
       "<table border=\"1\" class=\"dataframe\">\n",
       "  <thead>\n",
       "    <tr style=\"text-align: right;\">\n",
       "      <th></th>\n",
       "      <th>Timestamp</th>\n",
       "      <th>Open</th>\n",
       "      <th>Close</th>\n",
       "      <th>Volume</th>\n",
       "      <th>Adjclose</th>\n",
       "      <th>Change %</th>\n",
       "      <th>Date</th>\n",
       "      <th>Last Year</th>\n",
       "    </tr>\n",
       "  </thead>\n",
       "  <tbody>\n",
       "    <tr>\n",
       "      <th>0</th>\n",
       "      <td>1543800600</td>\n",
       "      <td>2647.132080</td>\n",
       "      <td>2654.798096</td>\n",
       "      <td>207500.0</td>\n",
       "      <td>2654.798096</td>\n",
       "      <td>0.002896</td>\n",
       "      <td>2018-12-03</td>\n",
       "      <td>2017-12-03</td>\n",
       "    </tr>\n",
       "    <tr>\n",
       "      <th>1</th>\n",
       "      <td>1543887000</td>\n",
       "      <td>2651.561035</td>\n",
       "      <td>2665.958008</td>\n",
       "      <td>167900.0</td>\n",
       "      <td>2665.958008</td>\n",
       "      <td>0.005430</td>\n",
       "      <td>2018-12-04</td>\n",
       "      <td>2017-12-04</td>\n",
       "    </tr>\n",
       "    <tr>\n",
       "      <th>2</th>\n",
       "      <td>1543973400</td>\n",
       "      <td>2629.833008</td>\n",
       "      <td>2649.804932</td>\n",
       "      <td>154500.0</td>\n",
       "      <td>2649.804932</td>\n",
       "      <td>0.007594</td>\n",
       "      <td>2018-12-05</td>\n",
       "      <td>2017-12-05</td>\n",
       "    </tr>\n",
       "    <tr>\n",
       "      <th>3</th>\n",
       "      <td>1544059800</td>\n",
       "      <td>2629.820068</td>\n",
       "      <td>2605.180908</td>\n",
       "      <td>141700.0</td>\n",
       "      <td>2605.180908</td>\n",
       "      <td>-0.009369</td>\n",
       "      <td>2018-12-06</td>\n",
       "      <td>2017-12-06</td>\n",
       "    </tr>\n",
       "    <tr>\n",
       "      <th>4</th>\n",
       "      <td>1544146200</td>\n",
       "      <td>2609.341064</td>\n",
       "      <td>2605.887939</td>\n",
       "      <td>109100.0</td>\n",
       "      <td>2605.887939</td>\n",
       "      <td>-0.001323</td>\n",
       "      <td>2018-12-07</td>\n",
       "      <td>2017-12-07</td>\n",
       "    </tr>\n",
       "  </tbody>\n",
       "</table>\n",
       "</div>"
      ],
      "text/plain": [
       "    Timestamp         Open        Close    Volume     Adjclose  Change %  \\\n",
       "0  1543800600  2647.132080  2654.798096  207500.0  2654.798096  0.002896   \n",
       "1  1543887000  2651.561035  2665.958008  167900.0  2665.958008  0.005430   \n",
       "2  1543973400  2629.833008  2649.804932  154500.0  2649.804932  0.007594   \n",
       "3  1544059800  2629.820068  2605.180908  141700.0  2605.180908 -0.009369   \n",
       "4  1544146200  2609.341064  2605.887939  109100.0  2605.887939 -0.001323   \n",
       "\n",
       "         Date  Last Year  \n",
       "0  2018-12-03 2017-12-03  \n",
       "1  2018-12-04 2017-12-04  \n",
       "2  2018-12-05 2017-12-05  \n",
       "3  2018-12-06 2017-12-06  \n",
       "4  2018-12-07 2017-12-07  "
      ]
     },
     "execution_count": 59,
     "metadata": {},
     "output_type": "execute_result"
    }
   ],
   "source": [
    "timestamp = response2.json()['chart']['result'][0]['timestamp']\n",
    "year_close = response2.json()['chart']['result'][0]['indicators']['quote'][0]['close']\n",
    "year_open =response2.json()['chart']['result'][0]['indicators']['quote'][0]['open']\n",
    "year_volume =response2.json()['chart']['result'][0]['indicators']['quote'][0]['volume']\n",
    "year_adjclose =response2.json()['chart']['result'][0]['indicators']['adjclose'][0]['adjclose']\n",
    "\n",
    "sseDict = {\"Timestamp\":timestamp,\n",
    "           \"Open\":year_open,\n",
    "          \"Close\":year_close,\n",
    "           \"Volume\":year_volume,\n",
    "          \"Adjclose\":year_adjclose\n",
    "          }\n",
    "sse_df = pd.DataFrame(sseDict)\n",
    "\n",
    "sse_df['Change %'] = (sse_df['Close']-sse_df['Open'])/sse_df['Open']\n",
    "\n",
    "convert_date = []\n",
    "convert_date = [datetime.datetime.utcfromtimestamp(sse_df['Timestamp'][x]).strftime('%Y-%m-%d') for x in range(0,len(sse_df['Timestamp']))]\n",
    "sse_df['Date'] = convert_date\n",
    "\n",
    "sse_df['Last Year'] =[datetime.datetime.strptime(sse_df['Date'][x],'%Y-%m-%d')-datetime.timedelta(365) for x in range(0,len(sse_df['Date']))]\n",
    "sse_df.head()\n",
    "\n"
   ]
  },
  {
   "cell_type": "code",
   "execution_count": 106,
   "metadata": {},
   "outputs": [
    {
     "data": {
      "text/plain": [
       "313"
      ]
     },
     "execution_count": 106,
     "metadata": {},
     "output_type": "execute_result"
    }
   ],
   "source": [
    "len(sse_df)"
   ]
  },
  {
   "cell_type": "code",
   "execution_count": 123,
   "metadata": {},
   "outputs": [
    {
     "data": {
      "text/html": [
       "<div>\n",
       "<style scoped>\n",
       "    .dataframe tbody tr th:only-of-type {\n",
       "        vertical-align: middle;\n",
       "    }\n",
       "\n",
       "    .dataframe tbody tr th {\n",
       "        vertical-align: top;\n",
       "    }\n",
       "\n",
       "    .dataframe thead th {\n",
       "        text-align: right;\n",
       "    }\n",
       "</style>\n",
       "<table border=\"1\" class=\"dataframe\">\n",
       "  <thead>\n",
       "    <tr style=\"text-align: right;\">\n",
       "      <th></th>\n",
       "      <th>Date</th>\n",
       "      <th>Annual Volatility</th>\n",
       "      <th>Timestamp</th>\n",
       "    </tr>\n",
       "  </thead>\n",
       "  <tbody>\n",
       "    <tr>\n",
       "      <th>0</th>\n",
       "      <td>2019-11-29</td>\n",
       "      <td>14.948930</td>\n",
       "      <td>1574991000</td>\n",
       "    </tr>\n",
       "    <tr>\n",
       "      <th>1</th>\n",
       "      <td>2019-12-02</td>\n",
       "      <td>14.948811</td>\n",
       "      <td>1575250200</td>\n",
       "    </tr>\n",
       "    <tr>\n",
       "      <th>2</th>\n",
       "      <td>2019-12-03</td>\n",
       "      <td>14.955485</td>\n",
       "      <td>1575336600</td>\n",
       "    </tr>\n",
       "    <tr>\n",
       "      <th>3</th>\n",
       "      <td>2019-12-04</td>\n",
       "      <td>14.953838</td>\n",
       "      <td>1575423000</td>\n",
       "    </tr>\n",
       "    <tr>\n",
       "      <th>4</th>\n",
       "      <td>2019-12-05</td>\n",
       "      <td>14.951118</td>\n",
       "      <td>1575509400</td>\n",
       "    </tr>\n",
       "  </tbody>\n",
       "</table>\n",
       "</div>"
      ],
      "text/plain": [
       "        Date  Annual Volatility   Timestamp\n",
       "0 2019-11-29          14.948930  1574991000\n",
       "1 2019-12-02          14.948811  1575250200\n",
       "2 2019-12-03          14.955485  1575336600\n",
       "3 2019-12-04          14.953838  1575423000\n",
       "4 2019-12-05          14.951118  1575509400"
      ]
     },
     "execution_count": 123,
     "metadata": {},
     "output_type": "execute_result"
    }
   ],
   "source": [
    "volatile_yr_avg = []\n",
    "yearlyGroups = []\n",
    "yearlyTimestamp = []\n",
    "df_len_check = []\n",
    "for i in range(0,len(sse_df['Timestamp'])):\n",
    "    try:\n",
    "        cond1 = sse_df['Timestamp']<=sse_df['Timestamp'][i]\n",
    "        cond2 = (pd.Series(sse_df['Timestamp']>=(sse_df['Timestamp'][i]-(365*24*60*60))))\n",
    "        df = sse_df[cond1 & cond2]\n",
    "        #print('working')\n",
    "        if len(df)>239:  #avoids sets less than a full year\n",
    "            volatile_yr_avg.append(df.std()['Change %']*math.sqrt(len(df))*100) #annual volatility (stdev * sqrt(252))\n",
    "            yearlyGroups.append(sse_df['Date'][i]) \n",
    "            yearlyTimestamp.append(sse_df['Timestamp'][i])\n",
    "            df_len_check.append(len(df))\n",
    "    except:\n",
    "        print('Error Found')\n",
    "volatile_sse_dict = {\"Date\":yearlyGroups,\n",
    "                    \"Annual Volatility\":volatile_yr_avg,\n",
    "                     \"Timestamp\":yearlyTimestamp\n",
    "                    }\n",
    "volatile_sse_df = pd.DataFrame(volatile_sse_dict)\n",
    "volatile_sse_df['Date']=pd.to_datetime(volatile_sse_df['Date'])\n",
    "volatile_sse_df.head()"
   ]
  },
  {
   "cell_type": "code",
   "execution_count": 125,
   "metadata": {},
   "outputs": [
    {
     "data": {
      "text/plain": [
       "[<matplotlib.lines.Line2D at 0x207b0303b38>]"
      ]
     },
     "execution_count": 125,
     "metadata": {},
     "output_type": "execute_result"
    },
    {
     "data": {
      "image/png": "[encoded data removed]",
      "text/plain": [
       "<Figure size 432x288 with 1 Axes>"
      ]
     },
     "metadata": {
      "needs_background": "light"
     },
     "output_type": "display_data"
    }
   ],
   "source": [
    "plt.plot(volatile_sse_df['Date'],volatile_sse_df['Annual Volatility'])\n",
    "\n",
    "\n",
    "#volatile_sse_df.plot('Timestamp','Annual Volatility',kind = 'scatter')"
   ]
  },
  {
   "cell_type": "markdown",
   "metadata": {},
   "source": [
    "## Dow Jones Industrial Average "
   ]
  },
  {
   "cell_type": "code",
   "execution_count": 36,
   "metadata": {},
   "outputs": [],
   "source": [
    "curr_time = int(time.time())\n",
    "#prior_year = curr_time-(60*60*24*365)\n",
    "prior_year = 1543622400  # unix for December 01,2018\n",
    "\n",
    "ticker_symbol = \"^DJI\"\n",
    "\n",
    "url = \"https://apidojo-yahoo-finance-v1.p.rapidapi.com/stock/get-histories\"\n",
    "\n",
    "querystring = {\"region\":\"US\",\"lang\":\"en\",\"symbol\":ticker_symbol,\"from\":prior_year,\"to\":curr_time,\"events\":\"div\",\"events\":\"split\",\"events\":\"earn\",\"interval\":\"1d\"}\n",
    "\n",
    "headers = {\n",
    "    'x-rapidapi-host': \"apidojo-yahoo-finance-v1.p.rapidapi.com\",\n",
    "    'x-rapidapi-key': rapidapi_key\n",
    "    }\n",
    "\n",
    "response3 = requests.request(\"GET\", url, headers=headers, params=querystring)\n"
   ]
  },
  {
   "cell_type": "code",
   "execution_count": 37,
   "metadata": {
    "scrolled": true
   },
   "outputs": [
    {
     "data": {
      "text/html": [
       "<div>\n",
       "<style scoped>\n",
       "    .dataframe tbody tr th:only-of-type {\n",
       "        vertical-align: middle;\n",
       "    }\n",
       "\n",
       "    .dataframe tbody tr th {\n",
       "        vertical-align: top;\n",
       "    }\n",
       "\n",
       "    .dataframe thead th {\n",
       "        text-align: right;\n",
       "    }\n",
       "</style>\n",
       "<table border=\"1\" class=\"dataframe\">\n",
       "  <thead>\n",
       "    <tr style=\"text-align: right;\">\n",
       "      <th></th>\n",
       "      <th>Timestamp</th>\n",
       "      <th>Open</th>\n",
       "      <th>Close</th>\n",
       "      <th>Volume</th>\n",
       "      <th>Adjclose</th>\n",
       "      <th>Change %</th>\n",
       "      <th>Date</th>\n",
       "      <th>Last Year</th>\n",
       "    </tr>\n",
       "  </thead>\n",
       "  <tbody>\n",
       "    <tr>\n",
       "      <th>0</th>\n",
       "      <td>1543847400</td>\n",
       "      <td>25779.570312</td>\n",
       "      <td>25826.429688</td>\n",
       "      <td>388480000</td>\n",
       "      <td>25826.429688</td>\n",
       "      <td>0.001818</td>\n",
       "      <td>2018-12-03</td>\n",
       "      <td>2017-12-03</td>\n",
       "    </tr>\n",
       "    <tr>\n",
       "      <th>1</th>\n",
       "      <td>1543933800</td>\n",
       "      <td>25752.560547</td>\n",
       "      <td>25027.070312</td>\n",
       "      <td>418900000</td>\n",
       "      <td>25027.070312</td>\n",
       "      <td>-0.028172</td>\n",
       "      <td>2018-12-04</td>\n",
       "      <td>2017-12-04</td>\n",
       "    </tr>\n",
       "    <tr>\n",
       "      <th>2</th>\n",
       "      <td>1544106600</td>\n",
       "      <td>24737.419922</td>\n",
       "      <td>24947.669922</td>\n",
       "      <td>471690000</td>\n",
       "      <td>24947.669922</td>\n",
       "      <td>0.008499</td>\n",
       "      <td>2018-12-06</td>\n",
       "      <td>2017-12-06</td>\n",
       "    </tr>\n",
       "    <tr>\n",
       "      <th>3</th>\n",
       "      <td>1544193000</td>\n",
       "      <td>24918.820312</td>\n",
       "      <td>24388.949219</td>\n",
       "      <td>398230000</td>\n",
       "      <td>24388.949219</td>\n",
       "      <td>-0.021264</td>\n",
       "      <td>2018-12-07</td>\n",
       "      <td>2017-12-07</td>\n",
       "    </tr>\n",
       "    <tr>\n",
       "      <th>4</th>\n",
       "      <td>1544452200</td>\n",
       "      <td>24360.949219</td>\n",
       "      <td>24423.259766</td>\n",
       "      <td>389690000</td>\n",
       "      <td>24423.259766</td>\n",
       "      <td>0.002558</td>\n",
       "      <td>2018-12-10</td>\n",
       "      <td>2017-12-10</td>\n",
       "    </tr>\n",
       "  </tbody>\n",
       "</table>\n",
       "</div>"
      ],
      "text/plain": [
       "    Timestamp          Open         Close     Volume      Adjclose  Change %  \\\n",
       "0  1543847400  25779.570312  25826.429688  388480000  25826.429688  0.001818   \n",
       "1  1543933800  25752.560547  25027.070312  418900000  25027.070312 -0.028172   \n",
       "2  1544106600  24737.419922  24947.669922  471690000  24947.669922  0.008499   \n",
       "3  1544193000  24918.820312  24388.949219  398230000  24388.949219 -0.021264   \n",
       "4  1544452200  24360.949219  24423.259766  389690000  24423.259766  0.002558   \n",
       "\n",
       "         Date  Last Year  \n",
       "0  2018-12-03 2017-12-03  \n",
       "1  2018-12-04 2017-12-04  \n",
       "2  2018-12-06 2017-12-06  \n",
       "3  2018-12-07 2017-12-07  \n",
       "4  2018-12-10 2017-12-10  "
      ]
     },
     "execution_count": 37,
     "metadata": {},
     "output_type": "execute_result"
    }
   ],
   "source": [
    "timestamp = response3.json()['chart']['result'][0]['timestamp']\n",
    "year_close = response3.json()['chart']['result'][0]['indicators']['quote'][0]['close']\n",
    "year_open =response3.json()['chart']['result'][0]['indicators']['quote'][0]['open']\n",
    "year_volume =response3.json()['chart']['result'][0]['indicators']['quote'][0]['volume']\n",
    "year_adjclose =response3.json()['chart']['result'][0]['indicators']['adjclose'][0]['adjclose']\n",
    "\n",
    "djiDict = {\"Timestamp\":timestamp,\n",
    "           \"Open\":year_open,\n",
    "          \"Close\":year_close,\n",
    "           \"Volume\":year_volume,\n",
    "          \"Adjclose\":year_adjclose\n",
    "          }\n",
    "dji_df = pd.DataFrame(djiDict)\n",
    "dji_df['Change %'] = (dji_df['Close']-dji_df['Open'])/dji_df['Open']\n",
    "\n",
    "convert_date = []\n",
    "convert_date = [datetime.datetime.utcfromtimestamp(dji_df['Timestamp'][x]).strftime('%Y-%m-%d') for x in range(0,len(dji_df['Timestamp']))]\n",
    "dji_df['Date'] = convert_date\n",
    "\n",
    "dji_df['Last Year'] =[datetime.datetime.strptime(dji_df['Date'][x],'%Y-%m-%d')-datetime.timedelta(365) for x in range(0,len(dji_df['Date']))]\n",
    "dji_df.head()\n"
   ]
  },
  {
   "cell_type": "code",
   "execution_count": 126,
   "metadata": {},
   "outputs": [
    {
     "data": {
      "text/html": [
       "<div>\n",
       "<style scoped>\n",
       "    .dataframe tbody tr th:only-of-type {\n",
       "        vertical-align: middle;\n",
       "    }\n",
       "\n",
       "    .dataframe tbody tr th {\n",
       "        vertical-align: top;\n",
       "    }\n",
       "\n",
       "    .dataframe thead th {\n",
       "        text-align: right;\n",
       "    }\n",
       "</style>\n",
       "<table border=\"1\" class=\"dataframe\">\n",
       "  <thead>\n",
       "    <tr style=\"text-align: right;\">\n",
       "      <th></th>\n",
       "      <th>Date</th>\n",
       "      <th>Annual Volatility</th>\n",
       "      <th>Timestamp</th>\n",
       "    </tr>\n",
       "  </thead>\n",
       "  <tbody>\n",
       "    <tr>\n",
       "      <th>0</th>\n",
       "      <td>2019-12-03</td>\n",
       "      <td>12.314809</td>\n",
       "      <td>1575383400</td>\n",
       "    </tr>\n",
       "    <tr>\n",
       "      <th>1</th>\n",
       "      <td>2019-12-04</td>\n",
       "      <td>12.313758</td>\n",
       "      <td>1575469800</td>\n",
       "    </tr>\n",
       "    <tr>\n",
       "      <th>2</th>\n",
       "      <td>2019-12-05</td>\n",
       "      <td>11.982959</td>\n",
       "      <td>1575556200</td>\n",
       "    </tr>\n",
       "    <tr>\n",
       "      <th>3</th>\n",
       "      <td>2019-12-06</td>\n",
       "      <td>11.998031</td>\n",
       "      <td>1575642600</td>\n",
       "    </tr>\n",
       "    <tr>\n",
       "      <th>4</th>\n",
       "      <td>2019-12-09</td>\n",
       "      <td>11.777236</td>\n",
       "      <td>1575901800</td>\n",
       "    </tr>\n",
       "  </tbody>\n",
       "</table>\n",
       "</div>"
      ],
      "text/plain": [
       "        Date  Annual Volatility   Timestamp\n",
       "0 2019-12-03          12.314809  1575383400\n",
       "1 2019-12-04          12.313758  1575469800\n",
       "2 2019-12-05          11.982959  1575556200\n",
       "3 2019-12-06          11.998031  1575642600\n",
       "4 2019-12-09          11.777236  1575901800"
      ]
     },
     "execution_count": 126,
     "metadata": {},
     "output_type": "execute_result"
    }
   ],
   "source": [
    "volatile_yr_avg = []\n",
    "yearlyGroups = []\n",
    "yearlyTimestamp = []\n",
    "for i in range(0,len(dji_df['Timestamp'])):\n",
    "    try:\n",
    "        cond1 = dji_df['Timestamp']<=dji_df['Timestamp'][i]\n",
    "        cond2 = (pd.Series(dji_df['Timestamp']>=(dji_df['Timestamp'][i]-(365*24*60*60))))\n",
    "        df = dji_df[cond1 & cond2]\n",
    "        #print('working')\n",
    "        if len(df)>251:  #avoids sets less than a full year\n",
    "            volatile_yr_avg.append(df.std()['Change %']*math.sqrt(len(df))*100) #annual volatility (stdev * sqrt(252))\n",
    "            yearlyGroups.append(dji_df['Date'][i])\n",
    "            yearlyTimestamp.append(dji_df['Timestamp'][i])\n",
    "    except:\n",
    "        print('Error Found')\n",
    "volatile_dji_dict = {\"Date\":yearlyGroups,\n",
    "                    \"Annual Volatility\":volatile_yr_avg,\n",
    "                     \"Timestamp\":yearlyTimestamp\n",
    "                    }\n",
    "volatile_dji_df = pd.DataFrame(volatile_dji_dict)\n",
    "volatile_dji_df['Date']=pd.to_datetime(volatile_dji_df['Date'])\n",
    "volatile_dji_df.head()"
   ]
  },
  {
   "cell_type": "code",
   "execution_count": 128,
   "metadata": {},
   "outputs": [
    {
     "data": {
      "text/plain": [
       "[<matplotlib.lines.Line2D at 0x207affc8f60>]"
      ]
     },
     "execution_count": 128,
     "metadata": {},
     "output_type": "execute_result"
    },
    {
     "data": {
      "image/png": "[encoded data removed]",
      "text/plain": [
       "<Figure size 432x288 with 1 Axes>"
      ]
     },
     "metadata": {
      "needs_background": "light"
     },
     "output_type": "display_data"
    }
   ],
   "source": [
    "plt.plot(volatile_dji_df['Date'],volatile_dji_df['Annual Volatility'])\n",
    "\n",
    "\n",
    "#volatile_italy_df.plot('Timestamp','Annual Volatility',kind = 'scatter')"
   ]
  },
  {
   "cell_type": "markdown",
   "metadata": {},
   "source": [
    "## Covid19 Data"
   ]
  },
  {
   "cell_type": "code",
   "execution_count": 77,
   "metadata": {},
   "outputs": [],
   "source": [
    "time_series_2019_ncov_Deaths =pd.read_csv(\"covid19_data/time_series_2019-ncov-Deaths.csv\")\n",
    "time_series_2019_ncov_Recovered = pd.read_csv(\"covid19_data/time_series_2019-ncov-Recovered.csv\")\n",
    "time_series_ncov_Confirmed = pd.read_csv(\"covid19_data/time_series-ncov-Confirmed.csv\")\n",
    "time_series_ncov_Deaths = pd.read_csv(\"covid19_data/time_series-ncov-Deaths.csv\")\n",
    "time_series_2019_ncov_Confirmed = pd.read_csv(\"covid19_data/time_series_2019-ncov-Confirmed.csv\")\n",
    "time_series_2019_ncov_Recovered = pd.read_csv(\"covid19_data/time_series_2019-ncov-Recovered.csv\")\n",
    "\n",
    "\n"
   ]
  },
  {
   "cell_type": "markdown",
   "metadata": {},
   "source": [
    "## Deaths"
   ]
  },
  {
   "cell_type": "markdown",
   "metadata": {},
   "source": [
    "### US"
   ]
  },
  {
   "cell_type": "code",
   "execution_count": 137,
   "metadata": {
    "scrolled": true
   },
   "outputs": [
    {
     "data": {
      "image/png": "[encoded data removed]",
      "text/plain": [
       "<Figure size 432x288 with 1 Axes>"
      ]
     },
     "metadata": {
      "needs_background": "light"
     },
     "output_type": "display_data"
    }
   ],
   "source": [
    "us_cond=time_series_2019_ncov_Deaths['Country/Region']=='US'\n",
    "\n",
    "t = time_series_2019_ncov_Deaths[us_cond]\n",
    "t =t.drop(columns =['Lat','Long','Province/State'])\n",
    "t = t.groupby('Country/Region').sum()\n",
    "\n",
    "t =t.T\n",
    "t.index = pd.to_datetime(t.index)\n",
    "t.plot(legend=False)\n",
    "plt.show()"
   ]
  },
  {
   "cell_type": "markdown",
   "metadata": {},
   "source": [
    "### Italy"
   ]
  },
  {
   "cell_type": "code",
   "execution_count": 138,
   "metadata": {},
   "outputs": [
    {
     "data": {
      "image/png": "[encoded data removed]",
      "text/plain": [
       "<Figure size 432x288 with 1 Axes>"
      ]
     },
     "metadata": {
      "needs_background": "light"
     },
     "output_type": "display_data"
    }
   ],
   "source": [
    "italy_cond=time_series_2019_ncov_Deaths['Country/Region']=='Italy'\n",
    "\n",
    "t = time_series_2019_ncov_Deaths[italy_cond]\n",
    "t =t.drop(columns =['Lat','Long','Province/State'])\n",
    "t = t.groupby('Country/Region').sum()\n",
    "\n",
    "t =t.T\n",
    "t.index = pd.to_datetime(t.index)\n",
    "t.plot(legend=False)\n",
    "plt.show()"
   ]
  },
  {
   "cell_type": "markdown",
   "metadata": {},
   "source": [
    "### China"
   ]
  },
  {
   "cell_type": "code",
   "execution_count": 139,
   "metadata": {},
   "outputs": [
    {
     "data": {
      "image/png": "[encoded data removed]",
      "text/plain": [
       "<Figure size 432x288 with 1 Axes>"
      ]
     },
     "metadata": {
      "needs_background": "light"
     },
     "output_type": "display_data"
    }
   ],
   "source": [
    "china_cond=time_series_2019_ncov_Deaths['Country/Region']=='China'\n",
    "\n",
    "t = time_series_2019_ncov_Deaths[china_cond]\n",
    "t =t.drop(columns =['Lat','Long','Province/State'])\n",
    "t = t.groupby('Country/Region').sum()\n",
    "\n",
    "t =t.T\n",
    "t.index = pd.to_datetime(t.index)\n",
    "t.plot(legend=False)\n",
    "plt.show()"
   ]
  },
  {
   "cell_type": "markdown",
   "metadata": {},
   "source": [
    "## Recovered"
   ]
  },
  {
   "cell_type": "markdown",
   "metadata": {},
   "source": [
    "### US"
   ]
  },
  {
   "cell_type": "code",
   "execution_count": 140,
   "metadata": {},
   "outputs": [
    {
     "data": {
      "image/png": "[encoded data removed]",
      "text/plain": [
       "<Figure size 432x288 with 1 Axes>"
      ]
     },
     "metadata": {
      "needs_background": "light"
     },
     "output_type": "display_data"
    }
   ],
   "source": [
    "us_cond=time_series_2019_ncov_Recovered['Country/Region']=='US'\n",
    "\n",
    "t = time_series_2019_ncov_Recovered[us_cond]\n",
    "t =t.drop(columns =['Lat','Long','Province/State'])\n",
    "t = t.groupby('Country/Region').sum()\n",
    "\n",
    "t =t.T\n",
    "t.index = pd.to_datetime(t.index)\n",
    "t.plot(legend=False)\n",
    "plt.show()"
   ]
  },
  {
   "cell_type": "markdown",
   "metadata": {},
   "source": [
    "### Italy"
   ]
  },
  {
   "cell_type": "code",
   "execution_count": 141,
   "metadata": {},
   "outputs": [
    {
     "data": {
      "image/png": "[encoded data removed]",
      "text/plain": [
       "<Figure size 432x288 with 1 Axes>"
      ]
     },
     "metadata": {
      "needs_background": "light"
     },
     "output_type": "display_data"
    }
   ],
   "source": [
    "italy_cond=time_series_2019_ncov_Recovered['Country/Region']=='Italy'\n",
    "\n",
    "t = time_series_2019_ncov_Recovered[italy_cond]\n",
    "t =t.drop(columns =['Lat','Long','Province/State'])\n",
    "t = t.groupby('Country/Region').sum()\n",
    "\n",
    "t =t.T\n",
    "t.index = pd.to_datetime(t.index)\n",
    "t.plot(legend=False)\n",
    "plt.show()"
   ]
  },
  {
   "cell_type": "markdown",
   "metadata": {},
   "source": [
    "### China"
   ]
  },
  {
   "cell_type": "code",
   "execution_count": 142,
   "metadata": {
    "scrolled": true
   },
   "outputs": [
    {
     "data": {
      "image/png": "[encoded data removed]",
      "text/plain": [
       "<Figure size 432x288 with 1 Axes>"
      ]
     },
     "metadata": {
      "needs_background": "light"
     },
     "output_type": "display_data"
    }
   ],
   "source": [
    "china_cond=time_series_2019_ncov_Recovered['Country/Region']=='China'\n",
    "\n",
    "t = time_series_2019_ncov_Recovered[china_cond]\n",
    "t =t.drop(columns =['Lat','Long','Province/State'])\n",
    "t = t.groupby('Country/Region').sum()\n",
    "\n",
    "t =t.T\n",
    "t.index = pd.to_datetime(t.index)\n",
    "t.plot(legend=False)\n",
    "plt.show()"
   ]
  },
  {
   "cell_type": "markdown",
   "metadata": {},
   "source": [
    "# Number Confirmed Cases"
   ]
  },
  {
   "cell_type": "markdown",
   "metadata": {},
   "source": [
    "### US"
   ]
  },
  {
   "cell_type": "code",
   "execution_count": 143,
   "metadata": {
    "scrolled": true
   },
   "outputs": [
    {
     "data": {
      "image/png": "[encoded data removed]",
      "text/plain": [
       "<Figure size 432x288 with 1 Axes>"
      ]
     },
     "metadata": {
      "needs_background": "light"
     },
     "output_type": "display_data"
    }
   ],
   "source": [
    "us_cond=time_series_2019_ncov_Confirmed['Country/Region']=='US'\n",
    "\n",
    "t = time_series_2019_ncov_Confirmed[us_cond]\n",
    "t =t.drop(columns =['Lat','Long','Province/State'])\n",
    "t = t.groupby('Country/Region').sum()\n",
    "\n",
    "t =t.T\n",
    "t.index = pd.to_datetime(t.index)\n",
    "t.plot(legend=False)\n",
    "plt.show()"
   ]
  },
  {
   "cell_type": "markdown",
   "metadata": {},
   "source": [
    "### Italy"
   ]
  },
  {
   "cell_type": "code",
   "execution_count": 144,
   "metadata": {},
   "outputs": [
    {
     "data": {
      "image/png": "[encoded data removed]",
      "text/plain": [
       "<Figure size 432x288 with 1 Axes>"
      ]
     },
     "metadata": {
      "needs_background": "light"
     },
     "output_type": "display_data"
    }
   ],
   "source": [
    "italy_cond=time_series_2019_ncov_Confirmed['Country/Region']=='Italy'\n",
    "\n",
    "t = time_series_2019_ncov_Confirmed[italy_cond]\n",
    "t =t.drop(columns =['Lat','Long','Province/State'])\n",
    "t = t.groupby('Country/Region').sum()\n",
    "\n",
    "t =t.T\n",
    "t.index = pd.to_datetime(t.index)\n",
    "t.plot(legend=False)\n",
    "plt.show()"
   ]
  },
  {
   "cell_type": "markdown",
   "metadata": {},
   "source": [
    "### China"
   ]
  },
  {
   "cell_type": "code",
   "execution_count": 145,
   "metadata": {},
   "outputs": [
    {
     "data": {
      "image/png": "[encoded data removed]",
      "text/plain": [
       "<Figure size 432x288 with 1 Axes>"
      ]
     },
     "metadata": {
      "needs_background": "light"
     },
     "output_type": "display_data"
    }
   ],
   "source": [
    "china_cond=time_series_2019_ncov_Confirmed['Country/Region']=='China'\n",
    "\n",
    "t = time_series_2019_ncov_Confirmed[china_cond]\n",
    "t =t.drop(columns =['Lat','Long','Province/State'])\n",
    "t = t.groupby('Country/Region').sum()\n",
    "\n",
    "t =t.T\n",
    "t.index = pd.to_datetime(t.index)\n",
    "t.plot(legend=False)\n",
    "plt.show()"
   ]
  },
  {
   "cell_type": "markdown",
   "metadata": {},
   "source": [
    "# Number of Cases Recovered"
   ]
  },
  {
   "cell_type": "markdown",
   "metadata": {},
   "source": [
    "### US"
   ]
  },
  {
   "cell_type": "code",
   "execution_count": 146,
   "metadata": {},
   "outputs": [
    {
     "data": {
      "image/png": "[encoded data removed]",
      "text/plain": [
       "<Figure size 432x288 with 1 Axes>"
      ]
     },
     "metadata": {
      "needs_background": "light"
     },
     "output_type": "display_data"
    }
   ],
   "source": [
    "us_cond=time_series_2019_ncov_Recovered['Country/Region']=='US'\n",
    "\n",
    "t = time_series_2019_ncov_Recovered[us_cond]\n",
    "t =t.drop(columns =['Lat','Long','Province/State'])\n",
    "t = t.groupby('Country/Region').sum()\n",
    "\n",
    "t =t.T\n",
    "t.index = pd.to_datetime(t.index)\n",
    "t.plot(legend=False)\n",
    "plt.show()"
   ]
  },
  {
   "cell_type": "markdown",
   "metadata": {},
   "source": [
    "### Italy"
   ]
  },
  {
   "cell_type": "code",
   "execution_count": 147,
   "metadata": {},
   "outputs": [
    {
     "data": {
      "image/png": "[encoded data removed]",
      "text/plain": [
       "<Figure size 432x288 with 1 Axes>"
      ]
     },
     "metadata": {
      "needs_background": "light"
     },
     "output_type": "display_data"
    }
   ],
   "source": [
    "italy_cond=time_series_2019_ncov_Recovered['Country/Region']=='Italy'\n",
    "\n",
    "t = time_series_2019_ncov_Recovered[italy_cond]\n",
    "t =t.drop(columns =['Lat','Long','Province/State'])\n",
    "t = t.groupby('Country/Region').sum()\n",
    "\n",
    "t =t.T\n",
    "t.index = pd.to_datetime(t.index)\n",
    "t.plot(legend=False)\n",
    "plt.show()"
   ]
  },
  {
   "cell_type": "markdown",
   "metadata": {},
   "source": [
    "### China"
   ]
  },
  {
   "cell_type": "code",
   "execution_count": 148,
   "metadata": {},
   "outputs": [
    {
     "data": {
      "image/png": "[encoded data removed]",
      "text/plain": [
       "<Figure size 432x288 with 1 Axes>"
      ]
     },
     "metadata": {
      "needs_background": "light"
     },
     "output_type": "display_data"
    }
   ],
   "source": [
    "china_cond=time_series_2019_ncov_Recovered['Country/Region']=='China'\n",
    "\n",
    "t = time_series_2019_ncov_Recovered[china_cond]\n",
    "t =t.drop(columns =['Lat','Long','Province/State'])\n",
    "t = t.groupby('Country/Region').sum()\n",
    "\n",
    "t =t.T\n",
    "t.index = pd.to_datetime(t.index)\n",
    "t.plot(legend=False)\n",
    "plt.show()"
   ]
  },
  {
   "cell_type": "code",
   "execution_count": 43,
   "metadata": {},
   "outputs": [
    {
     "data": {
      "text/html": [
       "<div>\n",
       "<style scoped>\n",
       "    .dataframe tbody tr th:only-of-type {\n",
       "        vertical-align: middle;\n",
       "    }\n",
       "\n",
       "    .dataframe tbody tr th {\n",
       "        vertical-align: top;\n",
       "    }\n",
       "\n",
       "    .dataframe thead th {\n",
       "        text-align: right;\n",
       "    }\n",
       "</style>\n",
       "<table border=\"1\" class=\"dataframe\">\n",
       "  <thead>\n",
       "    <tr style=\"text-align: right;\">\n",
       "      <th></th>\n",
       "      <th>Province/State</th>\n",
       "      <th>Country/Region</th>\n",
       "      <th>Lat</th>\n",
       "      <th>Long</th>\n",
       "      <th>Date</th>\n",
       "      <th>Value</th>\n",
       "    </tr>\n",
       "  </thead>\n",
       "  <tbody>\n",
       "    <tr>\n",
       "      <th>0</th>\n",
       "      <td>#adm1+name</td>\n",
       "      <td>#country+name</td>\n",
       "      <td>#geo+lat</td>\n",
       "      <td>#geo+lon</td>\n",
       "      <td>#date</td>\n",
       "      <td>#affected+infected+value+num</td>\n",
       "    </tr>\n",
       "    <tr>\n",
       "      <th>1</th>\n",
       "      <td>NaN</td>\n",
       "      <td>Afghanistan</td>\n",
       "      <td>33.0</td>\n",
       "      <td>65.0</td>\n",
       "      <td>2020-03-20</td>\n",
       "      <td>24</td>\n",
       "    </tr>\n",
       "    <tr>\n",
       "      <th>2</th>\n",
       "      <td>NaN</td>\n",
       "      <td>Afghanistan</td>\n",
       "      <td>33.0</td>\n",
       "      <td>65.0</td>\n",
       "      <td>2020-03-19</td>\n",
       "      <td>22</td>\n",
       "    </tr>\n",
       "    <tr>\n",
       "      <th>3</th>\n",
       "      <td>NaN</td>\n",
       "      <td>Afghanistan</td>\n",
       "      <td>33.0</td>\n",
       "      <td>65.0</td>\n",
       "      <td>2020-03-18</td>\n",
       "      <td>22</td>\n",
       "    </tr>\n",
       "    <tr>\n",
       "      <th>4</th>\n",
       "      <td>NaN</td>\n",
       "      <td>Afghanistan</td>\n",
       "      <td>33.0</td>\n",
       "      <td>65.0</td>\n",
       "      <td>2020-03-17</td>\n",
       "      <td>22</td>\n",
       "    </tr>\n",
       "  </tbody>\n",
       "</table>\n",
       "</div>"
      ],
      "text/plain": [
       "  Province/State Country/Region       Lat      Long        Date  \\\n",
       "0     #adm1+name  #country+name  #geo+lat  #geo+lon       #date   \n",
       "1            NaN    Afghanistan      33.0      65.0  2020-03-20   \n",
       "2            NaN    Afghanistan      33.0      65.0  2020-03-19   \n",
       "3            NaN    Afghanistan      33.0      65.0  2020-03-18   \n",
       "4            NaN    Afghanistan      33.0      65.0  2020-03-17   \n",
       "\n",
       "                          Value  \n",
       "0  #affected+infected+value+num  \n",
       "1                            24  \n",
       "2                            22  \n",
       "3                            22  \n",
       "4                            22  "
      ]
     },
     "execution_count": 43,
     "metadata": {},
     "output_type": "execute_result"
    }
   ],
   "source": [
    "time_series_ncov_Confirmed.head()\n",
    "\n",
    "#t = time_series_ncov_Confirmed\n",
    "#t =t.drop(columns =['Lat','Long','Province/State'])\n",
    "#t =t.set_index('Country/Region')\n",
    "#t =t.T\n",
    "#t.plot(legend=False)\n",
    "#plt.show()"
   ]
  },
  {
   "cell_type": "code",
   "execution_count": 44,
   "metadata": {},
   "outputs": [
    {
     "data": {
      "text/html": [
       "<div>\n",
       "<style scoped>\n",
       "    .dataframe tbody tr th:only-of-type {\n",
       "        vertical-align: middle;\n",
       "    }\n",
       "\n",
       "    .dataframe tbody tr th {\n",
       "        vertical-align: top;\n",
       "    }\n",
       "\n",
       "    .dataframe thead th {\n",
       "        text-align: right;\n",
       "    }\n",
       "</style>\n",
       "<table border=\"1\" class=\"dataframe\">\n",
       "  <thead>\n",
       "    <tr style=\"text-align: right;\">\n",
       "      <th></th>\n",
       "      <th>Province/State</th>\n",
       "      <th>Country/Region</th>\n",
       "      <th>Lat</th>\n",
       "      <th>Long</th>\n",
       "      <th>Date</th>\n",
       "      <th>Value</th>\n",
       "    </tr>\n",
       "  </thead>\n",
       "  <tbody>\n",
       "    <tr>\n",
       "      <th>0</th>\n",
       "      <td>#adm1+name</td>\n",
       "      <td>#country+name</td>\n",
       "      <td>#geo+lat</td>\n",
       "      <td>#geo+lon</td>\n",
       "      <td>#date</td>\n",
       "      <td>#affected+killed+value+num</td>\n",
       "    </tr>\n",
       "    <tr>\n",
       "      <th>1</th>\n",
       "      <td>NaN</td>\n",
       "      <td>Afghanistan</td>\n",
       "      <td>33.0</td>\n",
       "      <td>65.0</td>\n",
       "      <td>2020-03-20</td>\n",
       "      <td>0</td>\n",
       "    </tr>\n",
       "    <tr>\n",
       "      <th>2</th>\n",
       "      <td>NaN</td>\n",
       "      <td>Afghanistan</td>\n",
       "      <td>33.0</td>\n",
       "      <td>65.0</td>\n",
       "      <td>2020-03-19</td>\n",
       "      <td>0</td>\n",
       "    </tr>\n",
       "    <tr>\n",
       "      <th>3</th>\n",
       "      <td>NaN</td>\n",
       "      <td>Afghanistan</td>\n",
       "      <td>33.0</td>\n",
       "      <td>65.0</td>\n",
       "      <td>2020-03-18</td>\n",
       "      <td>0</td>\n",
       "    </tr>\n",
       "    <tr>\n",
       "      <th>4</th>\n",
       "      <td>NaN</td>\n",
       "      <td>Afghanistan</td>\n",
       "      <td>33.0</td>\n",
       "      <td>65.0</td>\n",
       "      <td>2020-03-17</td>\n",
       "      <td>0</td>\n",
       "    </tr>\n",
       "  </tbody>\n",
       "</table>\n",
       "</div>"
      ],
      "text/plain": [
       "  Province/State Country/Region       Lat      Long        Date  \\\n",
       "0     #adm1+name  #country+name  #geo+lat  #geo+lon       #date   \n",
       "1            NaN    Afghanistan      33.0      65.0  2020-03-20   \n",
       "2            NaN    Afghanistan      33.0      65.0  2020-03-19   \n",
       "3            NaN    Afghanistan      33.0      65.0  2020-03-18   \n",
       "4            NaN    Afghanistan      33.0      65.0  2020-03-17   \n",
       "\n",
       "                        Value  \n",
       "0  #affected+killed+value+num  \n",
       "1                           0  \n",
       "2                           0  \n",
       "3                           0  \n",
       "4                           0  "
      ]
     },
     "execution_count": 44,
     "metadata": {},
     "output_type": "execute_result"
    }
   ],
   "source": [
    "time_series_ncov_Deaths.head()\n",
    "\n",
    "#t = time_series_ncov_Deaths\n",
    "#t =t.drop(columns =['Lat','Long','Province/State'])\n",
    "#t =t.set_index('Country/Region')\n",
    "#t =t.T\n",
    "#t.plot(legend=False)\n",
    "#plt.show()"
   ]
  },
  {
   "cell_type": "code",
   "execution_count": null,
   "metadata": {},
   "outputs": [],
   "source": []
  },
  {
   "cell_type": "code",
   "execution_count": null,
   "metadata": {},
   "outputs": [],
   "source": []
  },
  {
   "cell_type": "code",
   "execution_count": null,
   "metadata": {},
   "outputs": [],
   "source": []
  }
 ],
 "metadata": {
  "kernelspec": {
   "display_name": "Python 3",
   "language": "python",
   "name": "python3"
  },
  "language_info": {
   "codemirror_mode": {
    "name": "ipython",
    "version": 3
   },
   "file_extension": ".py",
   "mimetype": "text/x-python",
   "name": "python",
   "nbconvert_exporter": "python",
   "pygments_lexer": "ipython3",
   "version": "3.7.1"
  }
 },
 "nbformat": 4,
 "nbformat_minor": 2
}
