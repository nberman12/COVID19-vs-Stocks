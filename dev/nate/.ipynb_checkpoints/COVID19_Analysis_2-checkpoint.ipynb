{
 "cells": [
  {
   "cell_type": "code",
   "execution_count": 1,
   "metadata": {},
   "outputs": [],
   "source": [
    "from pprint import pprint\n",
    "import time\n",
    "import requests\n",
    "import pandas as pd\n",
    "import datetime\n",
    "import matplotlib.pyplot as plt\n",
    "import csv\n",
    "from statsmodels.tsa.arima_model import ARIMA\n",
    "from statsmodels.tsa.stattools import adfuller\n",
    "from sklearn.metrics import mean_squared_error\n",
    "import math"
   ]
  },
  {
   "cell_type": "markdown",
   "metadata": {},
   "source": [
    "# S&P500 Data"
   ]
  },
  {
   "cell_type": "code",
   "execution_count": 2,
   "metadata": {},
   "outputs": [],
   "source": [
    "curr_time = int(time.time())\n",
    "#prior_year = curr_time-(60*60*24*365)\n",
    "prior_year=1543622400\n",
    "ticker_symbol = \"^GSPC\""
   ]
  },
  {
   "cell_type": "code",
   "execution_count": 3,
   "metadata": {},
   "outputs": [],
   "source": [
    "\n",
    "url = \"https://apidojo-yahoo-finance-v1.p.rapidapi.com/stock/get-histories\"\n",
    "\n",
    "querystring = {\"region\":\"US\",\"lang\":\"en\",\"symbol\":ticker_symbol,\"from\":prior_year,\"to\":curr_time,\"events\":\"div\",\"events\":\"split\",\"events\":\"earn\",\"interval\":\"1d\"}\n",
    "\n",
    "headers = {\n",
    "    'x-rapidapi-host': \"apidojo-yahoo-finance-v1.p.rapidapi.com\",\n",
    "    'x-rapidapi-key': \"c9571a29b7msh7dedf518d9ba8b2p1bf4b5jsnec4ec11b7588\"\n",
    "    }\n",
    "\n",
    "response = requests.request(\"GET\", url, headers=headers, params=querystring)"
   ]
  },
  {
   "cell_type": "code",
   "execution_count": 4,
   "metadata": {},
   "outputs": [
    {
     "data": {
      "text/html": [
       "<div>\n",
       "<style scoped>\n",
       "    .dataframe tbody tr th:only-of-type {\n",
       "        vertical-align: middle;\n",
       "    }\n",
       "\n",
       "    .dataframe tbody tr th {\n",
       "        vertical-align: top;\n",
       "    }\n",
       "\n",
       "    .dataframe thead th {\n",
       "        text-align: right;\n",
       "    }\n",
       "</style>\n",
       "<table border=\"1\" class=\"dataframe\">\n",
       "  <thead>\n",
       "    <tr style=\"text-align: right;\">\n",
       "      <th></th>\n",
       "      <th>Timestamp</th>\n",
       "      <th>Open</th>\n",
       "      <th>Close</th>\n",
       "      <th>Volume</th>\n",
       "      <th>Adjclose</th>\n",
       "      <th>Change %</th>\n",
       "      <th>Date</th>\n",
       "      <th>Last Year</th>\n",
       "    </tr>\n",
       "  </thead>\n",
       "  <tbody>\n",
       "    <tr>\n",
       "      <td>0</td>\n",
       "      <td>1543847400</td>\n",
       "      <td>2790.500000</td>\n",
       "      <td>2790.370117</td>\n",
       "      <td>4186060000</td>\n",
       "      <td>2790.370117</td>\n",
       "      <td>-0.004654</td>\n",
       "      <td>2018-12-03</td>\n",
       "      <td>2017-12-03</td>\n",
       "    </tr>\n",
       "    <tr>\n",
       "      <td>1</td>\n",
       "      <td>1543933800</td>\n",
       "      <td>2782.429932</td>\n",
       "      <td>2700.060059</td>\n",
       "      <td>4499840000</td>\n",
       "      <td>2700.060059</td>\n",
       "      <td>-2.960357</td>\n",
       "      <td>2018-12-04</td>\n",
       "      <td>2017-12-04</td>\n",
       "    </tr>\n",
       "    <tr>\n",
       "      <td>2</td>\n",
       "      <td>1544106600</td>\n",
       "      <td>2663.510010</td>\n",
       "      <td>2695.949951</td>\n",
       "      <td>5141470000</td>\n",
       "      <td>2695.949951</td>\n",
       "      <td>1.217940</td>\n",
       "      <td>2018-12-06</td>\n",
       "      <td>2017-12-06</td>\n",
       "    </tr>\n",
       "    <tr>\n",
       "      <td>3</td>\n",
       "      <td>1544193000</td>\n",
       "      <td>2691.260010</td>\n",
       "      <td>2633.080078</td>\n",
       "      <td>4216690000</td>\n",
       "      <td>2633.080078</td>\n",
       "      <td>-2.161810</td>\n",
       "      <td>2018-12-07</td>\n",
       "      <td>2017-12-07</td>\n",
       "    </tr>\n",
       "    <tr>\n",
       "      <td>4</td>\n",
       "      <td>1544452200</td>\n",
       "      <td>2630.860107</td>\n",
       "      <td>2637.719971</td>\n",
       "      <td>4151030000</td>\n",
       "      <td>2637.719971</td>\n",
       "      <td>0.260746</td>\n",
       "      <td>2018-12-10</td>\n",
       "      <td>2017-12-10</td>\n",
       "    </tr>\n",
       "  </tbody>\n",
       "</table>\n",
       "</div>"
      ],
      "text/plain": [
       "    Timestamp         Open        Close      Volume     Adjclose  Change %  \\\n",
       "0  1543847400  2790.500000  2790.370117  4186060000  2790.370117 -0.004654   \n",
       "1  1543933800  2782.429932  2700.060059  4499840000  2700.060059 -2.960357   \n",
       "2  1544106600  2663.510010  2695.949951  5141470000  2695.949951  1.217940   \n",
       "3  1544193000  2691.260010  2633.080078  4216690000  2633.080078 -2.161810   \n",
       "4  1544452200  2630.860107  2637.719971  4151030000  2637.719971  0.260746   \n",
       "\n",
       "         Date  Last Year  \n",
       "0  2018-12-03 2017-12-03  \n",
       "1  2018-12-04 2017-12-04  \n",
       "2  2018-12-06 2017-12-06  \n",
       "3  2018-12-07 2017-12-07  \n",
       "4  2018-12-10 2017-12-10  "
      ]
     },
     "execution_count": 4,
     "metadata": {},
     "output_type": "execute_result"
    }
   ],
   "source": [
    "timestamp = response.json()['chart']['result'][0]['timestamp']\n",
    "year_close = response.json()['chart']['result'][0]['indicators']['quote'][0]['close']\n",
    "year_open =response.json()['chart']['result'][0]['indicators']['quote'][0]['open']\n",
    "year_volume =response.json()['chart']['result'][0]['indicators']['quote'][0]['volume']\n",
    "year_adjclose =response.json()['chart']['result'][0]['indicators']['adjclose'][0]['adjclose']\n",
    "\n",
    "    \n",
    "snpDict = {\"Timestamp\":timestamp,\n",
    "           \"Open\":year_open,\n",
    "          \"Close\":year_close,\n",
    "           \"Volume\":year_volume,\n",
    "          \"Adjclose\":year_adjclose\n",
    "          }\n",
    "snp_df = pd.DataFrame(snpDict)\n",
    "\n",
    "snp_df['Change %'] = ((snp_df['Close']-snp_df['Open'])/snp_df['Open'])*100\n",
    "\n",
    "convert_date = []\n",
    "convert_date = [datetime.datetime.utcfromtimestamp(snp_df['Timestamp'][x]).strftime('%Y-%m-%d') for x in range(0,len(snp_df['Timestamp']))]\n",
    "snp_df['Date'] = convert_date\n",
    "\n",
    "\n",
    "snp_df['Last Year'] =[datetime.datetime.strptime(snp_df['Date'][x],'%Y-%m-%d')-datetime.timedelta(365) for x in range(0,len(snp_df['Date']))]\n",
    "snp_df2=snp_df.sort_values(by='Date',ascending=False)\n",
    "snp_df2=snp_df.head(59)\n",
    "snp_df2.head()"
   ]
  },
  {
   "cell_type": "code",
   "execution_count": 5,
   "metadata": {},
   "outputs": [
    {
     "data": {
      "text/plain": [
       "(59, 3)"
      ]
     },
     "execution_count": 5,
     "metadata": {},
     "output_type": "execute_result"
    }
   ],
   "source": [
    "volatile_yr_avg = []\n",
    "yearlyGroups = []\n",
    "yearlyTimestamp = []\n",
    "\n",
    "for i in range(0,len(snp_df['Timestamp'])):\n",
    "    try:\n",
    "        cond1 = snp_df['Timestamp']<=snp_df['Timestamp'][i]\n",
    "        cond2 = (pd.Series(snp_df['Timestamp']>=(snp_df['Timestamp'][i]-(365*24*60*60))))\n",
    "        df = snp_df[cond1 & cond2]\n",
    "        #print('working')\n",
    "        if len(df)>251:  #avoids sets less than a full year\n",
    "            volatile_yr_avg.append(df.std()['Change %']*math.sqrt(len(df))*100) #annual volatility (stdev * sqrt(252))\n",
    "            yearlyGroups.append(snp_df['Date'][i]) \n",
    "            yearlyTimestamp.append(snp_df['Timestamp'][i])\n",
    "            \n",
    "    except:\n",
    "        print('Error Found')\n",
    "volatile_snp_dict = {\"Date\":yearlyGroups,\n",
    "                    \"Annual Volatility\":volatile_yr_avg,\n",
    "                     \"Timestamp\":yearlyTimestamp\n",
    "                    }\n",
    "volatile_snp_df = pd.DataFrame(volatile_snp_dict)\n",
    "volatile_snp_df['Date']=pd.to_datetime(volatile_snp_df['Date'])\n",
    "snp_volatility=volatile_snp_df.sort_values(by='Date',ascending=False)\n",
    "snp_volatility=snp_volatility.head(59)\n",
    "\n",
    "snp_volatility.shape"
   ]
  },
  {
   "cell_type": "markdown",
   "metadata": {},
   "source": [
    "# DJI Index"
   ]
  },
  {
   "cell_type": "code",
   "execution_count": 6,
   "metadata": {},
   "outputs": [],
   "source": [
    "ticker_symbol = \"^DJI\"\n",
    "prior_year=1543622400\n",
    "url = \"https://apidojo-yahoo-finance-v1.p.rapidapi.com/stock/get-histories\"\n",
    "\n",
    "querystring = {\"region\":\"US\",\"lang\":\"en\",\"symbol\":ticker_symbol,\"from\":prior_year,\"to\":curr_time,\"events\":\"div\",\"events\":\"split\",\"events\":\"earn\",\"interval\":\"1d\"}\n",
    "\n",
    "headers = {\n",
    "    'x-rapidapi-host': \"apidojo-yahoo-finance-v1.p.rapidapi.com\",\n",
    "    'x-rapidapi-key': \"c9571a29b7msh7dedf518d9ba8b2p1bf4b5jsnec4ec11b7588\"\n",
    "    }\n",
    "\n",
    "response_DJI = requests.request(\"GET\", url, headers=headers, params=querystring)"
   ]
  },
  {
   "cell_type": "code",
   "execution_count": 7,
   "metadata": {},
   "outputs": [
    {
     "data": {
      "text/plain": [
       "(329, 8)"
      ]
     },
     "execution_count": 7,
     "metadata": {},
     "output_type": "execute_result"
    }
   ],
   "source": [
    "timestamp = response_DJI.json()['chart']['result'][0]['timestamp']\n",
    "year_close = response_DJI.json()['chart']['result'][0]['indicators']['quote'][0]['close']\n",
    "year_open =response_DJI.json()['chart']['result'][0]['indicators']['quote'][0]['open']\n",
    "year_volume =response_DJI.json()['chart']['result'][0]['indicators']['quote'][0]['volume']\n",
    "year_adjclose =response_DJI.json()['chart']['result'][0]['indicators']['adjclose'][0]['adjclose']\n",
    "\n",
    "dji_Dict = {\"Timestamp\":timestamp,\n",
    "           \"Open\":year_open,\n",
    "          \"Close\":year_close,\n",
    "           \"Volume\":year_volume,\n",
    "          \"Adjclose\":year_adjclose\n",
    "          }\n",
    "dji_df = pd.DataFrame(dji_Dict)\n",
    "\n",
    "dji_df['Change %'] = ((dji_df['Close']-dji_df['Open'])/dji_df['Open'])*100\n",
    "\n",
    "convert_date = []\n",
    "convert_date = [datetime.datetime.utcfromtimestamp(dji_df['Timestamp'][x]).strftime('%Y-%m-%d') for x in range(0,len(dji_df['Timestamp']))]\n",
    "dji_df['Date'] = convert_date\n",
    "\n",
    "\n",
    "dji_df['Last Year'] =[datetime.datetime.strptime(dji_df['Date'][x],'%Y-%m-%d')-datetime.timedelta(365) for x in range(0,len(dji_df['Date']))]\n",
    "\n",
    "\n",
    "dji_df.shape"
   ]
  },
  {
   "cell_type": "code",
   "execution_count": 8,
   "metadata": {},
   "outputs": [
    {
     "data": {
      "text/plain": [
       "(78, 3)"
      ]
     },
     "execution_count": 8,
     "metadata": {},
     "output_type": "execute_result"
    }
   ],
   "source": [
    "volatile_yr_avg = []\n",
    "yearlyGroups = []\n",
    "yearlyTimestamp = []\n",
    "\n",
    "for i in range(0,len(dji_df['Timestamp'])):\n",
    "    try:\n",
    "        cond1 = dji_df['Timestamp']<=dji_df['Timestamp'][i]\n",
    "        cond2 = (pd.Series(dji_df['Timestamp']>=(dji_df['Timestamp'][i]-(365*24*60*60))))\n",
    "        df = dji_df[cond1 & cond2]\n",
    "        #print('working')\n",
    "        if len(df)>251:  #avoids sets less than a full year\n",
    "            volatile_yr_avg.append(df.std()['Change %']*math.sqrt(len(df))*100) #annual volatility (stdev * sqrt(252))\n",
    "            yearlyGroups.append(dji_df['Date'][i]) \n",
    "            yearlyTimestamp.append(dji_df['Timestamp'][i])\n",
    "            \n",
    "    except:\n",
    "        print('Error Found')\n",
    "volatile_dji_dict = {\"Date\":yearlyGroups,\n",
    "                    \"Annual Volatility\":volatile_yr_avg,\n",
    "                     \"Timestamp\":yearlyTimestamp\n",
    "                    }\n",
    "volatile_dji_df = pd.DataFrame(volatile_dji_dict)\n",
    "volatile_dji_df['Date']=pd.to_datetime(volatile_dji_df['Date'])\n",
    "volatile_dji_df.shape"
   ]
  },
  {
   "cell_type": "markdown",
   "metadata": {},
   "source": [
    "# Shanghei Market"
   ]
  },
  {
   "cell_type": "code",
   "execution_count": 9,
   "metadata": {},
   "outputs": [],
   "source": [
    "ticker_symbol = \"000001.SS\"\n",
    "url = \"https://apidojo-yahoo-finance-v1.p.rapidapi.com/stock/get-histories\"\n",
    "\n",
    "querystring = {\"region\":\"US\",\"lang\":\"en\",\"symbol\":ticker_symbol,\"from\":prior_year,\"to\":curr_time,\"events\":\"div\",\"events\":\"split\",\"events\":\"earn\",\"interval\":\"1d\"}\n",
    "\n",
    "headers = {\n",
    "    'x-rapidapi-host': \"apidojo-yahoo-finance-v1.p.rapidapi.com\",\n",
    "    'x-rapidapi-key': \"c9571a29b7msh7dedf518d9ba8b2p1bf4b5jsnec4ec11b7588\"\n",
    "    }\n",
    "\n",
    "response_ssec = requests.request(\"GET\", url, headers=headers, params=querystring)"
   ]
  },
  {
   "cell_type": "code",
   "execution_count": 10,
   "metadata": {},
   "outputs": [
    {
     "data": {
      "text/html": [
       "<div>\n",
       "<style scoped>\n",
       "    .dataframe tbody tr th:only-of-type {\n",
       "        vertical-align: middle;\n",
       "    }\n",
       "\n",
       "    .dataframe tbody tr th {\n",
       "        vertical-align: top;\n",
       "    }\n",
       "\n",
       "    .dataframe thead th {\n",
       "        text-align: right;\n",
       "    }\n",
       "</style>\n",
       "<table border=\"1\" class=\"dataframe\">\n",
       "  <thead>\n",
       "    <tr style=\"text-align: right;\">\n",
       "      <th></th>\n",
       "      <th>Timestamp</th>\n",
       "      <th>Open</th>\n",
       "      <th>Close</th>\n",
       "      <th>Volume</th>\n",
       "      <th>Adjclose</th>\n",
       "      <th>Change %</th>\n",
       "      <th>Date</th>\n",
       "      <th>Last Year</th>\n",
       "    </tr>\n",
       "  </thead>\n",
       "  <tbody>\n",
       "    <tr>\n",
       "      <td>0</td>\n",
       "      <td>1543800600</td>\n",
       "      <td>2647.132080</td>\n",
       "      <td>2654.798096</td>\n",
       "      <td>207500.0</td>\n",
       "      <td>2654.798096</td>\n",
       "      <td>0.289597</td>\n",
       "      <td>2018-12-03</td>\n",
       "      <td>2017-12-03</td>\n",
       "    </tr>\n",
       "    <tr>\n",
       "      <td>1</td>\n",
       "      <td>1543887000</td>\n",
       "      <td>2651.561035</td>\n",
       "      <td>2665.958008</td>\n",
       "      <td>167900.0</td>\n",
       "      <td>2665.958008</td>\n",
       "      <td>0.542962</td>\n",
       "      <td>2018-12-04</td>\n",
       "      <td>2017-12-04</td>\n",
       "    </tr>\n",
       "    <tr>\n",
       "      <td>2</td>\n",
       "      <td>1543973400</td>\n",
       "      <td>2629.833008</td>\n",
       "      <td>2649.804932</td>\n",
       "      <td>154500.0</td>\n",
       "      <td>2649.804932</td>\n",
       "      <td>0.759437</td>\n",
       "      <td>2018-12-05</td>\n",
       "      <td>2017-12-05</td>\n",
       "    </tr>\n",
       "    <tr>\n",
       "      <td>3</td>\n",
       "      <td>1544059800</td>\n",
       "      <td>2629.820068</td>\n",
       "      <td>2605.180908</td>\n",
       "      <td>141700.0</td>\n",
       "      <td>2605.180908</td>\n",
       "      <td>-0.936914</td>\n",
       "      <td>2018-12-06</td>\n",
       "      <td>2017-12-06</td>\n",
       "    </tr>\n",
       "    <tr>\n",
       "      <td>4</td>\n",
       "      <td>1544146200</td>\n",
       "      <td>2609.341064</td>\n",
       "      <td>2605.887939</td>\n",
       "      <td>109100.0</td>\n",
       "      <td>2605.887939</td>\n",
       "      <td>-0.132337</td>\n",
       "      <td>2018-12-07</td>\n",
       "      <td>2017-12-07</td>\n",
       "    </tr>\n",
       "  </tbody>\n",
       "</table>\n",
       "</div>"
      ],
      "text/plain": [
       "    Timestamp         Open        Close    Volume     Adjclose  Change %  \\\n",
       "0  1543800600  2647.132080  2654.798096  207500.0  2654.798096  0.289597   \n",
       "1  1543887000  2651.561035  2665.958008  167900.0  2665.958008  0.542962   \n",
       "2  1543973400  2629.833008  2649.804932  154500.0  2649.804932  0.759437   \n",
       "3  1544059800  2629.820068  2605.180908  141700.0  2605.180908 -0.936914   \n",
       "4  1544146200  2609.341064  2605.887939  109100.0  2605.887939 -0.132337   \n",
       "\n",
       "         Date  Last Year  \n",
       "0  2018-12-03 2017-12-03  \n",
       "1  2018-12-04 2017-12-04  \n",
       "2  2018-12-05 2017-12-05  \n",
       "3  2018-12-06 2017-12-06  \n",
       "4  2018-12-07 2017-12-07  "
      ]
     },
     "execution_count": 10,
     "metadata": {},
     "output_type": "execute_result"
    }
   ],
   "source": [
    "timestamp = response_ssec.json()['chart']['result'][0]['timestamp']\n",
    "year_close = response_ssec.json()['chart']['result'][0]['indicators']['quote'][0]['close']\n",
    "year_open =response_ssec.json()['chart']['result'][0]['indicators']['quote'][0]['open']\n",
    "year_volume =response_ssec.json()['chart']['result'][0]['indicators']['quote'][0]['volume']\n",
    "year_adjclose =response_ssec.json()['chart']['result'][0]['indicators']['adjclose'][0]['adjclose']\n",
    "\n",
    "ssec_Dict = {\"Timestamp\":timestamp,\n",
    "           \"Open\":year_open,\n",
    "          \"Close\":year_close,\n",
    "           \"Volume\":year_volume,\n",
    "          \"Adjclose\":year_adjclose\n",
    "          }\n",
    "ssec_df = pd.DataFrame(ssec_Dict)\n",
    "\n",
    "ssec_df['Change %'] = ((ssec_df['Close']-ssec_df['Open'])/ssec_df['Open'])*100\n",
    "\n",
    "convert_date = []\n",
    "convert_date = [datetime.datetime.utcfromtimestamp(ssec_df['Timestamp'][x]).strftime('%Y-%m-%d') for x in range(0,len(ssec_df['Timestamp']))]\n",
    "ssec_df['Date'] = convert_date\n",
    "\n",
    "\n",
    "ssec_df['Last Year'] =[datetime.datetime.strptime(ssec_df['Date'][x],'%Y-%m-%d')-datetime.timedelta(365) for x in range(0,len(ssec_df['Date']))]\n",
    "\n",
    "ssec_df2=ssec_df.sort_values(by='Date',ascending=False)\n",
    "ssec_df2=ssec_df.head(59)\n",
    "ssec_df2.head()"
   ]
  },
  {
   "cell_type": "code",
   "execution_count": 11,
   "metadata": {},
   "outputs": [
    {
     "data": {
      "text/html": [
       "<div>\n",
       "<style scoped>\n",
       "    .dataframe tbody tr th:only-of-type {\n",
       "        vertical-align: middle;\n",
       "    }\n",
       "\n",
       "    .dataframe tbody tr th {\n",
       "        vertical-align: top;\n",
       "    }\n",
       "\n",
       "    .dataframe thead th {\n",
       "        text-align: right;\n",
       "    }\n",
       "</style>\n",
       "<table border=\"1\" class=\"dataframe\">\n",
       "  <thead>\n",
       "    <tr style=\"text-align: right;\">\n",
       "      <th></th>\n",
       "      <th>Date</th>\n",
       "      <th>Annual Volatility</th>\n",
       "      <th>Timestamp</th>\n",
       "    </tr>\n",
       "  </thead>\n",
       "  <tbody>\n",
       "    <tr>\n",
       "      <td>77</td>\n",
       "      <td>2020-03-26</td>\n",
       "      <td>1531.359631</td>\n",
       "      <td>1585193420</td>\n",
       "    </tr>\n",
       "    <tr>\n",
       "      <td>76</td>\n",
       "      <td>2020-03-25</td>\n",
       "      <td>1544.675207</td>\n",
       "      <td>1585099800</td>\n",
       "    </tr>\n",
       "    <tr>\n",
       "      <td>75</td>\n",
       "      <td>2020-03-24</td>\n",
       "      <td>1545.701317</td>\n",
       "      <td>1585013400</td>\n",
       "    </tr>\n",
       "    <tr>\n",
       "      <td>74</td>\n",
       "      <td>2020-03-23</td>\n",
       "      <td>1544.332483</td>\n",
       "      <td>1584927000</td>\n",
       "    </tr>\n",
       "    <tr>\n",
       "      <td>73</td>\n",
       "      <td>2020-03-20</td>\n",
       "      <td>1542.736180</td>\n",
       "      <td>1584667800</td>\n",
       "    </tr>\n",
       "  </tbody>\n",
       "</table>\n",
       "</div>"
      ],
      "text/plain": [
       "         Date  Annual Volatility   Timestamp\n",
       "77 2020-03-26        1531.359631  1585193420\n",
       "76 2020-03-25        1544.675207  1585099800\n",
       "75 2020-03-24        1545.701317  1585013400\n",
       "74 2020-03-23        1544.332483  1584927000\n",
       "73 2020-03-20        1542.736180  1584667800"
      ]
     },
     "execution_count": 11,
     "metadata": {},
     "output_type": "execute_result"
    }
   ],
   "source": [
    "volatile_yr_avg = []\n",
    "yearlyGroups = []\n",
    "yearlyTimestamp = []\n",
    "\n",
    "for i in range(0,len(ssec_df['Timestamp'])):\n",
    "    try:\n",
    "        cond1 = ssec_df['Timestamp']<=ssec_df['Timestamp'][i]\n",
    "        cond2 = (pd.Series(ssec_df['Timestamp']>=(ssec_df['Timestamp'][i]-(365*24*60*60))))\n",
    "        df = ssec_df[cond1 & cond2]\n",
    "        #print('working')\n",
    "        if len(df)>237:  #avoids sets less than a full year\n",
    "            volatile_yr_avg.append(df.std()['Change %']*math.sqrt(len(df))*100) #annual volatility (stdev * sqrt(252))\n",
    "            yearlyGroups.append(ssec_df['Date'][i]) \n",
    "            yearlyTimestamp.append(ssec_df['Timestamp'][i])\n",
    "            \n",
    "    except:\n",
    "        print('Error Found')\n",
    "volatile_ssec_dict = {\"Date\":yearlyGroups,\n",
    "                    \"Annual Volatility\":volatile_yr_avg,\n",
    "                     \"Timestamp\":yearlyTimestamp\n",
    "                    }\n",
    "volatile_ssec_df = pd.DataFrame(volatile_ssec_dict)\n",
    "volatile_ssec_df['Date']=pd.to_datetime(volatile_ssec_df['Date'])\n",
    "ssec_volatility=volatile_ssec_df.sort_values(by='Date',ascending=False)\n",
    "ssec_volatility=ssec_volatility.head(59)\n",
    "ssec_volatility.head()"
   ]
  },
  {
   "cell_type": "markdown",
   "metadata": {},
   "source": [
    "# COVID DATA"
   ]
  },
  {
   "cell_type": "code",
   "execution_count": 12,
   "metadata": {},
   "outputs": [],
   "source": [
    "time_series_2019_ncov_Deaths =pd.read_csv(\"COVID19_data/time_series_2019-ncov-Deaths.csv\")\n",
    "time_series_2019_ncov_Recovered = pd.read_csv(\"COVID19_data/time_series_2019-ncov-Recovered.csv\")\n",
    "time_series_2019_ncov_Confirmed = pd.read_csv(\"COVID19_data/time_series_2019-ncov-Confirmed.csv\")\n",
    "time_series_ncov_Recovered = pd.read_csv(\"COVID19_data/time_series-ncov-Recovered.csv\")\n",
    "time_series_ncov_Confirmed = pd.read_csv(\"COVID19_data/time_series-ncov-Confirmed.csv\")\n",
    "time_series_ncov_Deaths = pd.read_csv(\"COVID19_data/time_series-ncov-Deaths.csv\")\n"
   ]
  },
  {
   "cell_type": "code",
   "execution_count": 13,
   "metadata": {},
   "outputs": [],
   "source": [
    "#Drop unneeded columns\n",
    "time_series_ncov_Confirmed =time_series_ncov_Confirmed.drop(columns =['Province/State'])\n",
    "time_series_ncov_Deaths =time_series_ncov_Deaths.drop(columns =['Province/State'])\n",
    "time_series_ncov_Recovered =time_series_ncov_Recovered.drop(columns =['Province/State'])"
   ]
  },
  {
   "cell_type": "code",
   "execution_count": 14,
   "metadata": {},
   "outputs": [
    {
     "data": {
      "text/html": [
       "<div>\n",
       "<style scoped>\n",
       "    .dataframe tbody tr th:only-of-type {\n",
       "        vertical-align: middle;\n",
       "    }\n",
       "\n",
       "    .dataframe tbody tr th {\n",
       "        vertical-align: top;\n",
       "    }\n",
       "\n",
       "    .dataframe thead th {\n",
       "        text-align: right;\n",
       "    }\n",
       "</style>\n",
       "<table border=\"1\" class=\"dataframe\">\n",
       "  <thead>\n",
       "    <tr style=\"text-align: right;\">\n",
       "      <th></th>\n",
       "      <th>Country/Region</th>\n",
       "      <th>Lat</th>\n",
       "      <th>Long</th>\n",
       "      <th>Date</th>\n",
       "      <th>Confirmed Cases</th>\n",
       "    </tr>\n",
       "  </thead>\n",
       "  <tbody>\n",
       "    <tr>\n",
       "      <td>1</td>\n",
       "      <td>Afghanistan</td>\n",
       "      <td>33.0</td>\n",
       "      <td>65.0</td>\n",
       "      <td>2020-03-20</td>\n",
       "      <td>24.0</td>\n",
       "    </tr>\n",
       "    <tr>\n",
       "      <td>2</td>\n",
       "      <td>Afghanistan</td>\n",
       "      <td>33.0</td>\n",
       "      <td>65.0</td>\n",
       "      <td>2020-03-19</td>\n",
       "      <td>22.0</td>\n",
       "    </tr>\n",
       "    <tr>\n",
       "      <td>3</td>\n",
       "      <td>Afghanistan</td>\n",
       "      <td>33.0</td>\n",
       "      <td>65.0</td>\n",
       "      <td>2020-03-18</td>\n",
       "      <td>22.0</td>\n",
       "    </tr>\n",
       "    <tr>\n",
       "      <td>4</td>\n",
       "      <td>Afghanistan</td>\n",
       "      <td>33.0</td>\n",
       "      <td>65.0</td>\n",
       "      <td>2020-03-17</td>\n",
       "      <td>22.0</td>\n",
       "    </tr>\n",
       "    <tr>\n",
       "      <td>5</td>\n",
       "      <td>Afghanistan</td>\n",
       "      <td>33.0</td>\n",
       "      <td>65.0</td>\n",
       "      <td>2020-03-16</td>\n",
       "      <td>21.0</td>\n",
       "    </tr>\n",
       "  </tbody>\n",
       "</table>\n",
       "</div>"
      ],
      "text/plain": [
       "  Country/Region   Lat  Long       Date  Confirmed Cases\n",
       "1    Afghanistan  33.0  65.0 2020-03-20             24.0\n",
       "2    Afghanistan  33.0  65.0 2020-03-19             22.0\n",
       "3    Afghanistan  33.0  65.0 2020-03-18             22.0\n",
       "4    Afghanistan  33.0  65.0 2020-03-17             22.0\n",
       "5    Afghanistan  33.0  65.0 2020-03-16             21.0"
      ]
     },
     "execution_count": 14,
     "metadata": {},
     "output_type": "execute_result"
    }
   ],
   "source": [
    "#Removing unecessary rows in each data set\n",
    "\n",
    "time_series_ncov_Confirmed =time_series_ncov_Confirmed.drop([0], axis = 0)\n",
    "time_series_ncov_Deaths =time_series_ncov_Deaths.drop([0], axis = 0)\n",
    "time_series_ncov_Recovered =time_series_ncov_Recovered.drop([0], axis = 0)\n",
    "time_series_ncov_Deaths.head()\n",
    "\n",
    "\n",
    "\n",
    "# Changing all value columns to numeric for analysis\n",
    "time_series_ncov_Confirmed[\"Value\"] = pd.to_numeric(time_series_ncov_Confirmed[\"Value\"])\n",
    "time_series_ncov_Deaths[\"Value\"] = pd.to_numeric(time_series_ncov_Deaths[\"Value\"])\n",
    "time_series_ncov_Recovered[\"Value\"] = pd.to_numeric(time_series_ncov_Recovered[\"Value\"])\n",
    "\n",
    "\n",
    "time_series_ncov_Confirmed[\"Date\"] = pd.to_datetime(time_series_ncov_Confirmed[\"Date\"])\n",
    "time_series_ncov_Deaths[\"Date\"] = pd.to_datetime(time_series_ncov_Deaths[\"Date\"])\n",
    "time_series_ncov_Recovered[\"Date\"] = pd.to_datetime(time_series_ncov_Recovered[\"Date\"])\n",
    "\n",
    "time_series_ncov_Confirmed.dtypes\n",
    "\n",
    "#Renaming value columns to be easier to analyze\n",
    "\n",
    "time_series_ncov_Confirmed= time_series_ncov_Confirmed.rename(columns ={'Value':'Confirmed Cases'})\n",
    "time_series_ncov_Deaths= time_series_ncov_Deaths.rename(columns ={'Value':'Deaths'})\n",
    "time_series_ncov_Recovered= time_series_ncov_Recovered.rename(columns ={'Value':'Recoveries'})\n",
    "time_series_ncov_Confirmed.head()"
   ]
  },
  {
   "cell_type": "markdown",
   "metadata": {},
   "source": [
    "# Deaths-China & US"
   ]
  },
  {
   "cell_type": "code",
   "execution_count": 15,
   "metadata": {},
   "outputs": [
    {
     "data": {
      "image/png": "[encoded data removed]",
      "text/plain": [
       "<Figure size 432x288 with 1 Axes>"
      ]
     },
     "metadata": {
      "needs_background": "light"
     },
     "output_type": "display_data"
    }
   ],
   "source": [
    "china_cond=time_series_2019_ncov_Deaths['Country/Region']=='China'\n",
    "\n",
    "china_deaths = time_series_2019_ncov_Deaths[china_cond]\n",
    "china_deaths =china_deaths.drop(columns =['Lat','Long','Province/State'])\n",
    "china_deaths = china_deaths.groupby('Country/Region').sum()\n",
    "\n",
    "china_deaths =china_deaths.T\n",
    "china_deaths.index = pd.to_datetime(china_deaths.index)\n",
    "#china_deaths.plot(legend=False)\n",
    "\n",
    "china_daily = [0]\n",
    "china_daily_percent = [0]\n",
    "for i in range(1,len(china_deaths['China'])):\n",
    "    china_daily.append(china_deaths['China'][i]-china_deaths['China'][i-1])\n",
    "    if china_deaths['China'][i-1]>0:\n",
    "        china_daily_percent.append((china_deaths['China'][i]-china_deaths['China'][i-1])/china_deaths['China'][i-1])\n",
    "    else:\n",
    "        china_daily_percent.append(0)    \n",
    "    \n",
    "    \n",
    "china_daily_df = china_deaths[['China']]\n",
    "china_daily_df['Daily']=china_daily\n",
    "china_daily_df['Percent Change'] = china_daily_percent\n",
    "\n",
    "#china_daily_df.plot(legend=False)\n",
    "china_daily_df['Percent Change'].plot(legend=True)\n",
    "\n",
    "plt.show()"
   ]
  },
  {
   "cell_type": "code",
   "execution_count": 16,
   "metadata": {},
   "outputs": [
    {
     "data": {
      "image/png": "[encoded data removed]",
      "text/plain": [
       "<Figure size 432x288 with 1 Axes>"
      ]
     },
     "metadata": {
      "needs_background": "light"
     },
     "output_type": "display_data"
    }
   ],
   "source": [
    "us_cond=time_series_2019_ncov_Deaths['Country/Region']=='US'\n",
    "\n",
    "us_deaths = time_series_2019_ncov_Deaths[us_cond]\n",
    "us_deaths =us_deaths.drop(columns =['Lat','Long','Province/State'])\n",
    "us_deaths = us_deaths.groupby('Country/Region').sum()\n",
    "\n",
    "us_deaths =us_deaths.T\n",
    "us_deaths.index = pd.to_datetime(us_deaths.index)\n",
    "#us_deaths.plot(legend=False)\n",
    "\n",
    "us_daily = [0]\n",
    "us_daily_percent = [0]\n",
    "for i in range(1,len(us_deaths['US'])):\n",
    "    us_daily.append(us_deaths['US'][i]-us_deaths['US'][i-1])\n",
    "    if us_deaths['US'][i-1]>0:\n",
    "        us_daily_percent.append((us_deaths['US'][i]-us_deaths['US'][i-1])/us_deaths['US'][i-1])\n",
    "    else:\n",
    "        us_daily_percent.append(0)\n",
    "us_daily_df = us_deaths[['US']]\n",
    "us_daily_df['Daily']=us_daily\n",
    "us_daily_df['Percent Change'] = us_daily_percent\n",
    "\n",
    "#us_daily_df.plot(legend=False)\n",
    "us_daily_df['Percent Change'].plot(legend=True)\n",
    "plt.show()"
   ]
  },
  {
   "cell_type": "markdown",
   "metadata": {},
   "source": [
    "# Recovered Cases-China & US\n"
   ]
  },
  {
   "cell_type": "code",
   "execution_count": 17,
   "metadata": {},
   "outputs": [
    {
     "data": {
      "image/png": "[encoded data removed]",
      "text/plain": [
       "<Figure size 432x288 with 1 Axes>"
      ]
     },
     "metadata": {
      "needs_background": "light"
     },
     "output_type": "display_data"
    }
   ],
   "source": [
    "us_cond=time_series_2019_ncov_Recovered['Country/Region']=='US'\n",
    "\n",
    "us_recovered = time_series_2019_ncov_Recovered[us_cond]\n",
    "us_recovered =us_recovered.drop(columns =['Lat','Long','Province/State'])\n",
    "us_recovered = us_recovered.groupby('Country/Region').sum()\n",
    "\n",
    "us_recovered =us_recovered.T\n",
    "us_recovered.index = pd.to_datetime(us_recovered.index)\n",
    "#us_recovered.plot(legend=False)\n",
    "\n",
    "us_daily = [0]\n",
    "us_daily_percent = [0]\n",
    "for i in range(1,len(us_recovered['US'])):\n",
    "    \n",
    "    us_daily.append(us_recovered['US'][i]-us_recovered['US'][i-1])\n",
    "    if us_recovered['US'][i-1]>0:\n",
    "        us_daily_percent.append((us_recovered['US'][i]-us_recovered['US'][i-1])/us_recovered['US'][i-1])\n",
    "    else:\n",
    "        us_daily_percent.append(0)\n",
    "us_daily_df = us_recovered[['US']]\n",
    "us_daily_df['Daily']=us_daily\n",
    "us_daily_df['Percent Change'] = us_daily_percent\n",
    "\n",
    "#us_daily_df.plot(legend=False)\n",
    "us_daily_df['Percent Change'].plot(legend=True)\n",
    "plt.show()"
   ]
  },
  {
   "cell_type": "code",
   "execution_count": 18,
   "metadata": {},
   "outputs": [
    {
     "data": {
      "image/png": "[encoded data removed]",
      "text/plain": [
       "<Figure size 432x288 with 1 Axes>"
      ]
     },
     "metadata": {
      "needs_background": "light"
     },
     "output_type": "display_data"
    }
   ],
   "source": [
    "china_cond=time_series_2019_ncov_Recovered['Country/Region']=='China'\n",
    "\n",
    "china_recovered = time_series_2019_ncov_Recovered[china_cond]\n",
    "china_recovered =china_recovered.drop(columns =['Lat','Long','Province/State'])\n",
    "china_recovered = china_recovered.groupby('Country/Region').sum()\n",
    "\n",
    "china_recovered =china_recovered.T\n",
    "china_recovered.index = pd.to_datetime(china_recovered.index)\n",
    "#china_recovered.plot(legend=False)\n",
    "\n",
    "china_daily = [0]\n",
    "china_daily_percent = [0]\n",
    "for i in range(1,len(china_recovered['China'])):\n",
    "    china_daily.append(china_recovered['China'][i]-china_recovered['China'][i-1])\n",
    "    if china_recovered['China'][i-1]>0:\n",
    "        china_daily_percent.append((china_recovered['China'][i]-china_recovered['China'][i-1])/china_recovered['China'][i-1])\n",
    "    else:\n",
    "        china_daily_percent.append(0)\n",
    "        \n",
    "china_daily_df = china_recovered[['China']]\n",
    "china_daily_df['Daily']=china_daily\n",
    "china_daily_df['Percent Change'] = china_daily_percent\n",
    "\n",
    "china_daily_df.columns=['Total Cases','Daily Cases','Percent Change']\n",
    "#china_daily_df.plot(legend=False)\n",
    "china_daily_df['Percent Change'].plot(legend=True)\n",
    "plt.legend()\n",
    "plt.show()"
   ]
  },
  {
   "cell_type": "markdown",
   "metadata": {},
   "source": [
    "# Confirmed Cases-China & US"
   ]
  },
  {
   "cell_type": "code",
   "execution_count": 19,
   "metadata": {},
   "outputs": [
    {
     "data": {
      "image/png": "[encoded data removed]",
      "text/plain": [
       "<Figure size 432x288 with 1 Axes>"
      ]
     },
     "metadata": {
      "needs_background": "light"
     },
     "output_type": "display_data"
    }
   ],
   "source": [
    "us_cond=time_series_2019_ncov_Confirmed['Country/Region']=='US'\n",
    "\n",
    "us_confirmed = time_series_2019_ncov_Confirmed[us_cond]\n",
    "us_confirmed =us_confirmed.drop(columns =['Lat','Long','Province/State'])\n",
    "us_confirmed = us_confirmed.groupby('Country/Region').sum()\n",
    "\n",
    "us_confirmed =us_confirmed.T\n",
    "us_confirmed.index = pd.to_datetime(us_confirmed.index)\n",
    "#us_confirmed.plot(legend=True,label = \"Total Cases\")\n",
    "\n",
    "us_daily = [0]\n",
    "us_daily_percent = [0]\n",
    "for i in range(1,len(us_confirmed['US'])):\n",
    "    us_daily.append(us_confirmed['US'][i]-us_confirmed['US'][i-1])\n",
    "    if us_confirmed['US'][i-1]>0:\n",
    "        us_daily_percent.append((us_confirmed['US'][i]-us_confirmed['US'][i-1])/us_confirmed['US'][i-1])\n",
    "    else:\n",
    "        us_daily_percent.append(0)\n",
    "us_daily_df = us_confirmed[['US']]\n",
    "us_daily_df['Daily']=us_daily\n",
    "us_daily_df['Percent Change'] = us_daily_percent\n",
    "\n",
    "us_daily_plot = us_daily_df['Daily']\n",
    "#us_daily_plot.plot(legend=False,label = \"Daily Cases\")\n",
    "us_daily_df['Percent Change'].plot(legend=True)\n",
    "plt.legend()\n",
    "plt.show()"
   ]
  },
  {
   "cell_type": "code",
   "execution_count": 20,
   "metadata": {},
   "outputs": [
    {
     "data": {
      "image/png": "[encoded data removed]",
      "text/plain": [
       "<Figure size 432x288 with 1 Axes>"
      ]
     },
     "metadata": {
      "needs_background": "light"
     },
     "output_type": "display_data"
    }
   ],
   "source": [
    "china_cond=time_series_2019_ncov_Confirmed['Country/Region']=='China'\n",
    "\n",
    "china_confirmed = time_series_2019_ncov_Confirmed[china_cond]\n",
    "china_confirmed =china_confirmed.drop(columns =['Lat','Long','Province/State'])\n",
    "china_confirmed = china_confirmed.groupby('Country/Region').sum()\n",
    "\n",
    "china_confirmed =china_confirmed.T\n",
    "china_confirmed.index = pd.to_datetime(china_confirmed.index)\n",
    "#china_confirmed.plot(legend=False)\n",
    "\n",
    "china_daily = [0]\n",
    "china_daily_percent = [0]\n",
    "for i in range(1,len(china_confirmed['China'])):\n",
    "    china_daily.append(china_confirmed['China'][i]-china_confirmed['China'][i-1])\n",
    "    if china_confirmed['China'][i-1]>0:\n",
    "        china_daily_percent.append((china_confirmed['China'][i]-china_confirmed['China'][i-1])/china_confirmed['China'][i-1])\n",
    "    else:\n",
    "        china_daily_percent.append(0)\n",
    "        \n",
    "china_daily_df = china_confirmed[['China']]\n",
    "china_daily_df['Daily']=china_daily\n",
    "china_daily_df['Percent Change'] = china_daily_percent\n",
    "china_daily_plot = china_daily_df['Daily']\n",
    "#china_daily_plot.plot(legend=False)\n",
    "china_daily_df['Percent Change'].plot(legend=True)\n",
    "plt.show()"
   ]
  },
  {
   "cell_type": "code",
   "execution_count": 21,
   "metadata": {},
   "outputs": [
    {
     "data": {
      "image/png": "[encoded data removed]",
      "text/plain": [
       "<Figure size 432x288 with 1 Axes>"
      ]
     },
     "metadata": {
      "needs_background": "light"
     },
     "output_type": "display_data"
    }
   ],
   "source": [
    "plt.scatter(china_daily_df['Percent Change'],ssec_volatility['Annual Volatility'])\n",
    "plt.xlabel('Confirm Cases % Change')\n",
    "plt.ylabel('Annual Volatility')\n",
    "\n",
    "plt.show()"
   ]
  },
  {
   "cell_type": "code",
   "execution_count": 22,
   "metadata": {},
   "outputs": [
    {
     "data": {
      "image/png": "[encoded data removed]",
      "text/plain": [
       "<Figure size 432x288 with 1 Axes>"
      ]
     },
     "metadata": {
      "needs_background": "light"
     },
     "output_type": "display_data"
    }
   ],
   "source": [
    "plt.scatter(china_daily_df['Percent Change'],ssec_df2['Change %'])\n",
    "plt.xlabel('Confirm Cases % Change')\n",
    "plt.ylabel('Daily % Change')\n",
    "\n",
    "plt.show()"
   ]
  },
  {
   "cell_type": "code",
   "execution_count": 23,
   "metadata": {},
   "outputs": [
    {
     "data": {
      "image/png": "[encoded data removed]",
      "text/plain": [
       "<Figure size 432x288 with 1 Axes>"
      ]
     },
     "metadata": {
      "needs_background": "light"
     },
     "output_type": "display_data"
    }
   ],
   "source": [
    "plt.scatter(us_daily_df['Percent Change'],snp_df2['Change %'])\n",
    "plt.ylabel('Daily % Change')\n",
    "plt.xlabel('Confirm Cases % Change')\n",
    "\n",
    "plt.show()"
   ]
  },
  {
   "cell_type": "code",
   "execution_count": null,
   "metadata": {},
   "outputs": [],
   "source": []
  },
  {
   "cell_type": "code",
   "execution_count": null,
   "metadata": {},
   "outputs": [],
   "source": []
  }
 ],
 "metadata": {
  "kernelspec": {
   "display_name": "Python 3",
   "language": "python",
   "name": "python3"
  },
  "language_info": {
   "codemirror_mode": {
    "name": "ipython",
    "version": 3
   },
   "file_extension": ".py",
   "mimetype": "text/x-python",
   "name": "python",
   "nbconvert_exporter": "python",
   "pygments_lexer": "ipython3",
   "version": "3.7.4"
  }
 },
 "nbformat": 4,
 "nbformat_minor": 2
}
