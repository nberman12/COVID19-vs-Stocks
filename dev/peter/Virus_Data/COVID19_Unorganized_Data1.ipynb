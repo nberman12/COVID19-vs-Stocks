{
 "cells": [
  {
   "cell_type": "code",
   "execution_count": 69,
   "metadata": {},
   "outputs": [],
   "source": [
    "from pprint import pprint\n",
    "import time\n",
    "import requests\n",
    "import pandas as pd\n",
    "import datetime\n",
    "import matplotlib.pyplot as plt\n",
    "from config import rapidapi_key\n",
    "import datetime\n",
    "import math"
   ]
  },
  {
   "cell_type": "markdown",
   "metadata": {},
   "source": [
    "# Unorganized Data"
   ]
  },
  {
   "cell_type": "code",
   "execution_count": 94,
   "metadata": {},
   "outputs": [],
   "source": [
    "#reading in all covid19 data\n",
    "\n",
    "time_series_ncov_Confirmed =pd.read_csv('../../../mvp/data/covid19_data/time_series-ncov-Confirmed.csv')\n",
    "time_series_ncov_Deaths = pd.read_csv('../../../mvp/data/covid19_data/time_series-ncov-Deaths.csv')\n",
    "time_series_ncov_Recovered =pd.read_csv('../../../mvp/data/covid19_data/time_series-ncov-Recovered.csv')"
   ]
  },
  {
   "cell_type": "code",
   "execution_count": 95,
   "metadata": {},
   "outputs": [
    {
     "data": {
      "text/html": [
       "<div>\n",
       "<style scoped>\n",
       "    .dataframe tbody tr th:only-of-type {\n",
       "        vertical-align: middle;\n",
       "    }\n",
       "\n",
       "    .dataframe tbody tr th {\n",
       "        vertical-align: top;\n",
       "    }\n",
       "\n",
       "    .dataframe thead th {\n",
       "        text-align: right;\n",
       "    }\n",
       "</style>\n",
       "<table border=\"1\" class=\"dataframe\">\n",
       "  <thead>\n",
       "    <tr style=\"text-align: right;\">\n",
       "      <th></th>\n",
       "      <th>Country/Region</th>\n",
       "      <th>Lat</th>\n",
       "      <th>Long</th>\n",
       "      <th>Date</th>\n",
       "      <th>Value</th>\n",
       "    </tr>\n",
       "  </thead>\n",
       "  <tbody>\n",
       "    <tr>\n",
       "      <td>0</td>\n",
       "      <td>#country+name</td>\n",
       "      <td>#geo+lat</td>\n",
       "      <td>#geo+lon</td>\n",
       "      <td>#date</td>\n",
       "      <td>#affected+infected+value+num</td>\n",
       "    </tr>\n",
       "    <tr>\n",
       "      <td>1</td>\n",
       "      <td>Afghanistan</td>\n",
       "      <td>33.0</td>\n",
       "      <td>65.0</td>\n",
       "      <td>2020-03-23</td>\n",
       "      <td>40</td>\n",
       "    </tr>\n",
       "    <tr>\n",
       "      <td>2</td>\n",
       "      <td>Afghanistan</td>\n",
       "      <td>33.0</td>\n",
       "      <td>65.0</td>\n",
       "      <td>2020-03-22</td>\n",
       "      <td>40</td>\n",
       "    </tr>\n",
       "    <tr>\n",
       "      <td>3</td>\n",
       "      <td>Afghanistan</td>\n",
       "      <td>33.0</td>\n",
       "      <td>65.0</td>\n",
       "      <td>2020-03-21</td>\n",
       "      <td>24</td>\n",
       "    </tr>\n",
       "    <tr>\n",
       "      <td>4</td>\n",
       "      <td>Afghanistan</td>\n",
       "      <td>33.0</td>\n",
       "      <td>65.0</td>\n",
       "      <td>2020-03-20</td>\n",
       "      <td>24</td>\n",
       "    </tr>\n",
       "  </tbody>\n",
       "</table>\n",
       "</div>"
      ],
      "text/plain": [
       "  Country/Region       Lat      Long        Date                         Value\n",
       "0  #country+name  #geo+lat  #geo+lon       #date  #affected+infected+value+num\n",
       "1    Afghanistan      33.0      65.0  2020-03-23                            40\n",
       "2    Afghanistan      33.0      65.0  2020-03-22                            40\n",
       "3    Afghanistan      33.0      65.0  2020-03-21                            24\n",
       "4    Afghanistan      33.0      65.0  2020-03-20                            24"
      ]
     },
     "execution_count": 95,
     "metadata": {},
     "output_type": "execute_result"
    }
   ],
   "source": [
    "#Removing Unecessary Columns in each data frame\n",
    "time_series_ncov_Confirmed =time_series_ncov_Confirmed.drop(columns =['Province/State'])\n",
    "time_series_ncov_Deaths =time_series_ncov_Deaths.drop(columns =['Province/State'])\n",
    "time_series_ncov_Recovered =time_series_ncov_Recovered.drop(columns =['Province/State'])\n",
    "time_series_ncov_Confirmed.head()"
   ]
  },
  {
   "cell_type": "code",
   "execution_count": 96,
   "metadata": {},
   "outputs": [
    {
     "data": {
      "text/html": [
       "<div>\n",
       "<style scoped>\n",
       "    .dataframe tbody tr th:only-of-type {\n",
       "        vertical-align: middle;\n",
       "    }\n",
       "\n",
       "    .dataframe tbody tr th {\n",
       "        vertical-align: top;\n",
       "    }\n",
       "\n",
       "    .dataframe thead th {\n",
       "        text-align: right;\n",
       "    }\n",
       "</style>\n",
       "<table border=\"1\" class=\"dataframe\">\n",
       "  <thead>\n",
       "    <tr style=\"text-align: right;\">\n",
       "      <th></th>\n",
       "      <th>Country/Region</th>\n",
       "      <th>Lat</th>\n",
       "      <th>Long</th>\n",
       "      <th>Date</th>\n",
       "      <th>Confirmed Cases</th>\n",
       "    </tr>\n",
       "  </thead>\n",
       "  <tbody>\n",
       "    <tr>\n",
       "      <td>1</td>\n",
       "      <td>Afghanistan</td>\n",
       "      <td>33.0</td>\n",
       "      <td>65.0</td>\n",
       "      <td>2020-03-23</td>\n",
       "      <td>40.0</td>\n",
       "    </tr>\n",
       "    <tr>\n",
       "      <td>2</td>\n",
       "      <td>Afghanistan</td>\n",
       "      <td>33.0</td>\n",
       "      <td>65.0</td>\n",
       "      <td>2020-03-22</td>\n",
       "      <td>40.0</td>\n",
       "    </tr>\n",
       "    <tr>\n",
       "      <td>3</td>\n",
       "      <td>Afghanistan</td>\n",
       "      <td>33.0</td>\n",
       "      <td>65.0</td>\n",
       "      <td>2020-03-21</td>\n",
       "      <td>24.0</td>\n",
       "    </tr>\n",
       "    <tr>\n",
       "      <td>4</td>\n",
       "      <td>Afghanistan</td>\n",
       "      <td>33.0</td>\n",
       "      <td>65.0</td>\n",
       "      <td>2020-03-20</td>\n",
       "      <td>24.0</td>\n",
       "    </tr>\n",
       "    <tr>\n",
       "      <td>5</td>\n",
       "      <td>Afghanistan</td>\n",
       "      <td>33.0</td>\n",
       "      <td>65.0</td>\n",
       "      <td>2020-03-19</td>\n",
       "      <td>22.0</td>\n",
       "    </tr>\n",
       "  </tbody>\n",
       "</table>\n",
       "</div>"
      ],
      "text/plain": [
       "  Country/Region   Lat  Long       Date  Confirmed Cases\n",
       "1    Afghanistan  33.0  65.0 2020-03-23             40.0\n",
       "2    Afghanistan  33.0  65.0 2020-03-22             40.0\n",
       "3    Afghanistan  33.0  65.0 2020-03-21             24.0\n",
       "4    Afghanistan  33.0  65.0 2020-03-20             24.0\n",
       "5    Afghanistan  33.0  65.0 2020-03-19             22.0"
      ]
     },
     "execution_count": 96,
     "metadata": {},
     "output_type": "execute_result"
    }
   ],
   "source": [
    "#Removing unecessary rows in each data set\n",
    "\n",
    "time_series_ncov_Confirmed =time_series_ncov_Confirmed.drop([0], axis = 0)\n",
    "time_series_ncov_Deaths =time_series_ncov_Deaths.drop([0], axis = 0)\n",
    "time_series_ncov_Recovered =time_series_ncov_Recovered.drop([0], axis = 0)\n",
    "time_series_ncov_Deaths.head()\n",
    "\n",
    "\n",
    "\n",
    "# Changing all value columns to numeric for analysis\n",
    "time_series_ncov_Confirmed[\"Value\"] = pd.to_numeric(time_series_ncov_Confirmed[\"Value\"])\n",
    "time_series_ncov_Deaths[\"Value\"] = pd.to_numeric(time_series_ncov_Deaths[\"Value\"])\n",
    "time_series_ncov_Recovered[\"Value\"] = pd.to_numeric(time_series_ncov_Recovered[\"Value\"])\n",
    "\n",
    "\n",
    "time_series_ncov_Confirmed[\"Date\"] = pd.to_datetime(time_series_ncov_Confirmed[\"Date\"])\n",
    "time_series_ncov_Deaths[\"Date\"] = pd.to_datetime(time_series_ncov_Deaths[\"Date\"])\n",
    "time_series_ncov_Recovered[\"Date\"] = pd.to_datetime(time_series_ncov_Recovered[\"Date\"])\n",
    "\n",
    "time_series_ncov_Confirmed.dtypes\n",
    "\n",
    "#Renaming value columns to be easier to analyze\n",
    "\n",
    "time_series_ncov_Confirmed= time_series_ncov_Confirmed.rename(columns ={'Value':'Confirmed Cases'})\n",
    "time_series_ncov_Deaths= time_series_ncov_Deaths.rename(columns ={'Value':'Deaths'})\n",
    "time_series_ncov_Recovered= time_series_ncov_Recovered.rename(columns ={'Value':'Recoveries'})\n",
    "time_series_ncov_Confirmed.head()"
   ]
  },
  {
   "cell_type": "code",
   "execution_count": null,
   "metadata": {},
   "outputs": [],
   "source": []
  },
  {
   "cell_type": "code",
   "execution_count": 97,
   "metadata": {},
   "outputs": [
    {
     "data": {
      "text/html": [
       "<div>\n",
       "<style scoped>\n",
       "    .dataframe tbody tr th:only-of-type {\n",
       "        vertical-align: middle;\n",
       "    }\n",
       "\n",
       "    .dataframe tbody tr th {\n",
       "        vertical-align: top;\n",
       "    }\n",
       "\n",
       "    .dataframe thead th {\n",
       "        text-align: right;\n",
       "    }\n",
       "</style>\n",
       "<table border=\"1\" class=\"dataframe\">\n",
       "  <thead>\n",
       "    <tr style=\"text-align: right;\">\n",
       "      <th></th>\n",
       "      <th></th>\n",
       "      <th>Confirmed Cases</th>\n",
       "      <th>Deaths</th>\n",
       "      <th>Recoveries</th>\n",
       "    </tr>\n",
       "    <tr>\n",
       "      <th>Country/Region</th>\n",
       "      <th>Date</th>\n",
       "      <th></th>\n",
       "      <th></th>\n",
       "      <th></th>\n",
       "    </tr>\n",
       "  </thead>\n",
       "  <tbody>\n",
       "    <tr>\n",
       "      <td rowspan=\"5\" valign=\"top\">Afghanistan</td>\n",
       "      <td>2020-01-22</td>\n",
       "      <td>0.0</td>\n",
       "      <td>0.0</td>\n",
       "      <td>0.0</td>\n",
       "    </tr>\n",
       "    <tr>\n",
       "      <td>2020-01-23</td>\n",
       "      <td>0.0</td>\n",
       "      <td>0.0</td>\n",
       "      <td>0.0</td>\n",
       "    </tr>\n",
       "    <tr>\n",
       "      <td>2020-01-24</td>\n",
       "      <td>0.0</td>\n",
       "      <td>0.0</td>\n",
       "      <td>0.0</td>\n",
       "    </tr>\n",
       "    <tr>\n",
       "      <td>2020-01-25</td>\n",
       "      <td>0.0</td>\n",
       "      <td>0.0</td>\n",
       "      <td>0.0</td>\n",
       "    </tr>\n",
       "    <tr>\n",
       "      <td>2020-01-26</td>\n",
       "      <td>0.0</td>\n",
       "      <td>0.0</td>\n",
       "      <td>0.0</td>\n",
       "    </tr>\n",
       "  </tbody>\n",
       "</table>\n",
       "</div>"
      ],
      "text/plain": [
       "                           Confirmed Cases  Deaths  Recoveries\n",
       "Country/Region Date                                           \n",
       "Afghanistan    2020-01-22              0.0     0.0         0.0\n",
       "               2020-01-23              0.0     0.0         0.0\n",
       "               2020-01-24              0.0     0.0         0.0\n",
       "               2020-01-25              0.0     0.0         0.0\n",
       "               2020-01-26              0.0     0.0         0.0"
      ]
     },
     "execution_count": 97,
     "metadata": {},
     "output_type": "execute_result"
    }
   ],
   "source": [
    "#Grouping all dataframes by country/region and the date to get total values for each data set\n",
    "\n",
    "time_series_nconv_Confirmed = time_series_ncov_Confirmed.groupby(['Country/Region','Date']).sum()['Confirmed Cases']\n",
    "time_series_nconv_Deaths = time_series_ncov_Deaths.groupby(['Country/Region','Date']).sum()['Deaths']\n",
    "time_series_nconv_Recovered = time_series_ncov_Recovered.groupby(['Country/Region','Date']).sum()['Recoveries']\n",
    "\n",
    "confirmed_all = pd.DataFrame({\n",
    "    \"Confirmed Cases\": time_series_nconv_Confirmed,\n",
    "    \"Deaths\": time_series_nconv_Deaths,\n",
    "    \"Recoveries\": time_series_nconv_Recovered\n",
    "})\n",
    "confirmed_all.head()"
   ]
  },
  {
   "cell_type": "code",
   "execution_count": 74,
   "metadata": {},
   "outputs": [],
   "source": [
    "#italy_df = confirmed_all.loc[\"Italy\"]\n"
   ]
  },
  {
   "cell_type": "code",
   "execution_count": 75,
   "metadata": {},
   "outputs": [
    {
     "data": {
      "image/png": "[encoded data removed]",
      "text/plain": [
       "<Figure size 432x288 with 1 Axes>"
      ]
     },
     "metadata": {
      "needs_background": "light"
     },
     "output_type": "display_data"
    }
   ],
   "source": [
    "italy_df = confirmed_all.loc[\"Italy\"]\n",
    "\n",
    "confirm_count = 0\n",
    "death_count = 0\n",
    "recovery_count = 0\n",
    "\n",
    "new_confirmed_cases =[]\n",
    "new_deaths =[]\n",
    "new_recoveries = []\n",
    "\n",
    "confirmed_cases_list = italy_df['Confirmed Cases'].to_list()\n",
    "deaths_list = italy_df['Deaths'].to_list()\n",
    "recoveries_list = italy_df['Recoveries'].to_list()\n",
    "\n",
    "for i in confirmed_cases_list:\n",
    "    new_confirm = i-confirm_count\n",
    "    new_confirmed_cases.append(new_confirm)\n",
    "    confirm_count = i\n",
    "\n",
    "for k in deaths_list:\n",
    "    new_dead = k-death_count\n",
    "    new_deaths.append(new_dead)\n",
    "    death_count = k\n",
    "\n",
    "for j in recoveries_list:\n",
    "    new_recover = j-recovery_count\n",
    "    new_recoveries.append(new_recover)\n",
    "    recovery_count = j\n",
    "\n",
    "\n",
    "italy_df[\"New Confirmed Cases\"]= new_confirmed_cases\n",
    "italy_df[\"New Deaths\"]= new_deaths\n",
    "italy_df[\"New Recoveries\"]= new_recoveries\n",
    "italy_df[\"Recovery Rate\"] = italy_df[\"New Recoveries\"] / italy_df[\"New Confirmed Cases\"]\n",
    "\n",
    "italy_df.head()\n",
    "italy_df[\"Recovery Rate\"].plot()\n",
    "# italy_df[\"New Confirmed Cases\"].plot()\n",
    "plt.show()"
   ]
  },
  {
   "cell_type": "code",
   "execution_count": 76,
   "metadata": {},
   "outputs": [
    {
     "data": {
      "image/png": "[encoded data removed]",
      "text/plain": [
       "<Figure size 432x288 with 1 Axes>"
      ]
     },
     "metadata": {
      "needs_background": "light"
     },
     "output_type": "display_data"
    },
    {
     "data": {
      "image/png": "[encoded data removed]",
      "text/plain": [
       "<Figure size 432x288 with 1 Axes>"
      ]
     },
     "metadata": {
      "needs_background": "light"
     },
     "output_type": "display_data"
    }
   ],
   "source": [
    "china_df = confirmed_all.loc[\"China\"]\n",
    "\n",
    "confirm_count = 0\n",
    "death_count = 0\n",
    "recovery_count = 0\n",
    "\n",
    "new_confirmed_cases =[]\n",
    "new_deaths =[]\n",
    "new_recoveries = []\n",
    "\n",
    "confirmed_cases_list = china_df['Confirmed Cases'].to_list()\n",
    "deaths_list = china_df['Deaths'].to_list()\n",
    "recoveries_list = china_df['Recoveries'].to_list()\n",
    "\n",
    "for i in confirmed_cases_list:\n",
    "    new_confirm = i-confirm_count\n",
    "    new_confirmed_cases.append(new_confirm)\n",
    "    confirm_count = i\n",
    "\n",
    "for k in deaths_list:\n",
    "    new_dead = k-death_count\n",
    "    new_deaths.append(new_dead)\n",
    "    death_count = k\n",
    "\n",
    "for j in recoveries_list:\n",
    "    new_recover = j-recovery_count\n",
    "    new_recoveries.append(new_recover)\n",
    "    recovery_count = j\n",
    "\n",
    "china_df[\"New Confirmed Cases\"]= new_confirmed_cases\n",
    "china_df[\"New Deaths\"]= new_deaths\n",
    "china_df[\"New Recoveries\"]= new_recoveries\n",
    "china_df[\"Recovery Rate\"] = china_df[\"New Recoveries\"] / china_df[\"New Confirmed Cases\"]\n",
    "\n",
    "china_df[\"Recovery Rate\"].plot()\n",
    "# china_df[\"New Confirmed Cases\"].plot()\n",
    "plt.show()\n",
    "china_df[\"New Confirmed Cases\"].plot()\n",
    "plt.show()\n",
    "# china_df[\"New Confirmed Cases\"]"
   ]
  },
  {
   "cell_type": "code",
   "execution_count": 77,
   "metadata": {},
   "outputs": [],
   "source": [
    "us_df = confirmed_all.loc[\"US\"]\n",
    "\n",
    "confirm_count = 0\n",
    "death_count = 0\n",
    "recovery_count = 0\n",
    "\n",
    "new_confirmed_cases =[]\n",
    "new_deaths =[]\n",
    "new_recoveries = []\n",
    "\n",
    "confirmed_cases_list = us_df['Confirmed Cases'].to_list()\n",
    "deaths_list = us_df['Deaths'].to_list()\n",
    "recoveries_list = us_df['Recoveries'].to_list()\n",
    "\n",
    "for i in confirmed_cases_list:\n",
    "    new_confirm = i-confirm_count\n",
    "    new_confirmed_cases.append(new_confirm)\n",
    "    confirm_count = i\n",
    "\n",
    "for k in deaths_list:\n",
    "    new_dead = k-death_count\n",
    "    new_deaths.append(new_dead)\n",
    "    death_count = k\n",
    "\n",
    "for j in recoveries_list:\n",
    "    new_recover = j-recovery_count\n",
    "    new_recoveries.append(new_recover)\n",
    "    recovery_count = j\n",
    "\n",
    "us_df[\"New Confirmed Cases\"]= new_confirmed_cases\n",
    "us_df[\"New Deaths\"]= new_deaths\n",
    "us_df[\"New Recoveries\"]= new_recoveries\n",
    "\n",
    "# us_df[\"New Deaths\"].plot()\n",
    "# us_df[\"New Confirmed Cases\"].plot()\n",
    "# plt.show()\n",
    "\n"
   ]
  },
  {
   "cell_type": "code",
   "execution_count": 98,
   "metadata": {},
   "outputs": [],
   "source": [
    "# confirmed_group=pd.DataFrame({\n",
    "#     #'x': confirmed_all.loc[\"Italy\"]['Confirmed Cases'].index,\n",
    "#     'Italy': confirmed_all.loc[\"Italy\"][\"Confirmed Cases\"], \n",
    "#     'US': confirmed_all.loc[\"US\"][\"Confirmed Cases\"],\n",
    "#     'China': confirmed_all.loc[\"China\"][\"Confirmed Cases\"]\n",
    "# })\n",
    "\n",
    "# confirmed_group.plot()\n",
    "# #ax.xaxis.set_major_locator(months)\n",
    "# #ax.xaxis.set_major_formatter(years_fmt)\n",
    "# plt.show()\n",
    "# #plt.plot('x','y1', data = df, markerfacecolor='blue', markersize=12, color='skyblue', linewidth=4)\n",
    "\n"
   ]
  },
  {
   "cell_type": "code",
   "execution_count": 99,
   "metadata": {},
   "outputs": [],
   "source": [
    "# death_group=pd.DataFrame({\n",
    "#     #'x': confirmed_all.loc[\"Italy\"]['Confirmed Cases'].index,\n",
    "#     'Italy': confirmed_all.loc[\"Italy\"][\"Deaths\"], \n",
    "#     'US': confirmed_all.loc[\"US\"][\"Deaths\"],\n",
    "#     'China': confirmed_all.loc[\"China\"][\"Deaths\"]\n",
    "# })\n",
    "\n",
    "# death_group.plot()\n",
    "# plt.show()"
   ]
  },
  {
   "cell_type": "code",
   "execution_count": 100,
   "metadata": {},
   "outputs": [],
   "source": [
    "# death_group=pd.DataFrame({\n",
    "#     #'x': confirmed_all.loc[\"Italy\"]['Confirmed Cases'].index,\n",
    "#     'Italy': confirmed_all.loc[\"Italy\"][\"Deaths\"], \n",
    "#     'US': confirmed_all.loc[\"US\"][\"Deaths\"],\n",
    "#     'China': confirmed_all.loc[\"China\"][\"Deaths\"]\n",
    "# })\n",
    "\n",
    "# death_group.plot()\n",
    "# plt.show()"
   ]
  },
  {
   "cell_type": "code",
   "execution_count": 101,
   "metadata": {},
   "outputs": [],
   "source": [
    "# recoveries_group=pd.DataFrame({\n",
    "#     #'x': confirmed_all.loc[\"Italy\"]['Confirmed Cases'].index,\n",
    "#     'Italy': confirmed_all.loc[\"Italy\"][\"Recoveries\"], \n",
    "#     'US': confirmed_all.loc[\"US\"][\"Recoveries\"],\n",
    "#     'China': confirmed_all.loc[\"China\"][\"Recoveries\"]\n",
    "# })\n",
    "\n",
    "# recoveries_group.plot()\n",
    "# plt.show()"
   ]
  },
  {
   "cell_type": "markdown",
   "metadata": {},
   "source": [
    "# Italian Market"
   ]
  },
  {
   "cell_type": "code",
   "execution_count": 86,
   "metadata": {},
   "outputs": [],
   "source": [
    "italy_market_df = pd.read_csv(\"../italy_index/FTSE Italia All Share Historical Data.csv\")"
   ]
  },
  {
   "cell_type": "code",
   "execution_count": 102,
   "metadata": {},
   "outputs": [
    {
     "data": {
      "text/html": [
       "<div>\n",
       "<style scoped>\n",
       "    .dataframe tbody tr th:only-of-type {\n",
       "        vertical-align: middle;\n",
       "    }\n",
       "\n",
       "    .dataframe tbody tr th {\n",
       "        vertical-align: top;\n",
       "    }\n",
       "\n",
       "    .dataframe thead th {\n",
       "        text-align: right;\n",
       "    }\n",
       "</style>\n",
       "<table border=\"1\" class=\"dataframe\">\n",
       "  <thead>\n",
       "    <tr style=\"text-align: right;\">\n",
       "      <th></th>\n",
       "      <th>Date</th>\n",
       "      <th>Price</th>\n",
       "      <th>Open</th>\n",
       "      <th>High</th>\n",
       "      <th>Low</th>\n",
       "      <th>Vol.</th>\n",
       "      <th>Change %</th>\n",
       "      <th>Timestamp</th>\n",
       "    </tr>\n",
       "  </thead>\n",
       "  <tbody>\n",
       "    <tr>\n",
       "      <td>0</td>\n",
       "      <td>2020-03-20</td>\n",
       "      <td>17171.55</td>\n",
       "      <td>17209.93</td>\n",
       "      <td>17628.87</td>\n",
       "      <td>17047.73</td>\n",
       "      <td>1500000000</td>\n",
       "      <td>1.85</td>\n",
       "      <td>1584662400</td>\n",
       "    </tr>\n",
       "    <tr>\n",
       "      <td>1</td>\n",
       "      <td>2020-03-19</td>\n",
       "      <td>16859.82</td>\n",
       "      <td>16814.38</td>\n",
       "      <td>17240.13</td>\n",
       "      <td>16438.49</td>\n",
       "      <td>1270000000</td>\n",
       "      <td>2.27</td>\n",
       "      <td>1584576000</td>\n",
       "    </tr>\n",
       "    <tr>\n",
       "      <td>2</td>\n",
       "      <td>2020-03-18</td>\n",
       "      <td>16486.21</td>\n",
       "      <td>16372.27</td>\n",
       "      <td>16785.57</td>\n",
       "      <td>16149.48</td>\n",
       "      <td>992760000</td>\n",
       "      <td>-1.17</td>\n",
       "      <td>1584489600</td>\n",
       "    </tr>\n",
       "    <tr>\n",
       "      <td>3</td>\n",
       "      <td>2020-03-17</td>\n",
       "      <td>16680.56</td>\n",
       "      <td>16850.34</td>\n",
       "      <td>17238.59</td>\n",
       "      <td>16065.72</td>\n",
       "      <td>1400000000</td>\n",
       "      <td>1.96</td>\n",
       "      <td>1584403200</td>\n",
       "    </tr>\n",
       "    <tr>\n",
       "      <td>4</td>\n",
       "      <td>2020-03-16</td>\n",
       "      <td>16360.04</td>\n",
       "      <td>17130.96</td>\n",
       "      <td>17130.96</td>\n",
       "      <td>15498.19</td>\n",
       "      <td>1540000000</td>\n",
       "      <td>-6.06</td>\n",
       "      <td>1584316800</td>\n",
       "    </tr>\n",
       "  </tbody>\n",
       "</table>\n",
       "</div>"
      ],
      "text/plain": [
       "        Date     Price      Open      High       Low        Vol.  Change %  \\\n",
       "0 2020-03-20  17171.55  17209.93  17628.87  17047.73  1500000000      1.85   \n",
       "1 2020-03-19  16859.82  16814.38  17240.13  16438.49  1270000000      2.27   \n",
       "2 2020-03-18  16486.21  16372.27  16785.57  16149.48   992760000     -1.17   \n",
       "3 2020-03-17  16680.56  16850.34  17238.59  16065.72  1400000000      1.96   \n",
       "4 2020-03-16  16360.04  17130.96  17130.96  15498.19  1540000000     -6.06   \n",
       "\n",
       "    Timestamp  \n",
       "0  1584662400  \n",
       "1  1584576000  \n",
       "2  1584489600  \n",
       "3  1584403200  \n",
       "4  1584316800  "
      ]
     },
     "execution_count": 102,
     "metadata": {},
     "output_type": "execute_result"
    }
   ],
   "source": [
    "\n",
    "italy_market_df.head()"
   ]
  },
  {
   "cell_type": "code",
   "execution_count": 87,
   "metadata": {},
   "outputs": [],
   "source": [
    "italy_market_df[\"Date\"]=pd.to_datetime(italy_market_df[\"Date\"])"
   ]
  },
  {
   "cell_type": "code",
   "execution_count": 88,
   "metadata": {},
   "outputs": [
    {
     "data": {
      "image/png": "[encoded data removed]",
      "text/plain": [
       "<Figure size 432x288 with 1 Axes>"
      ]
     },
     "metadata": {
      "needs_background": "light"
     },
     "output_type": "display_data"
    }
   ],
   "source": [
    "italy_market_df[\"Price\"].plot()\n",
    "plt.show()"
   ]
  },
  {
   "cell_type": "markdown",
   "metadata": {},
   "source": [
    "# Chinese Market"
   ]
  },
  {
   "cell_type": "code",
   "execution_count": 89,
   "metadata": {},
   "outputs": [],
   "source": [
    "curr_time = int(time.time())\n",
    "#prior_year = curr_time-(60*60*24*365)\n",
    "prior_year = 1543622400  # unix for December 01,2018\n",
    "ticker_symbol = \"000001.SS\""
   ]
  },
  {
   "cell_type": "code",
   "execution_count": 90,
   "metadata": {},
   "outputs": [],
   "source": [
    "import requests\n",
    "\n",
    "url = \"https://apidojo-yahoo-finance-v1.p.rapidapi.com/stock/get-histories\"\n",
    "\n",
    "querystring = {\"region\":\"US\",\"lang\":\"en\",\"symbol\":ticker_symbol,\"from\":\"1575176400\",\"to\":\"1585108800\",\"events\":\"div\",\"interval\":\"1d\"}\n",
    "\n",
    "headers = {\n",
    "    'x-rapidapi-host': \"apidojo-yahoo-finance-v1.p.rapidapi.com\",\n",
    "    'x-rapidapi-key': \"b477e42517mshf0183273bba2e47p1544cbjsnc7d400ac9422\"\n",
    "    }\n",
    "\n",
    "response2 = requests.request(\"GET\", url, headers=headers, params=querystring)\n",
    "\n"
   ]
  },
  {
   "cell_type": "code",
   "execution_count": 91,
   "metadata": {},
   "outputs": [
    {
     "data": {
      "text/plain": [
       "<Response [200]>"
      ]
     },
     "execution_count": 91,
     "metadata": {},
     "output_type": "execute_result"
    }
   ],
   "source": [
    "response2"
   ]
  },
  {
   "cell_type": "code",
   "execution_count": 92,
   "metadata": {
    "scrolled": true
   },
   "outputs": [
    {
     "data": {
      "text/html": [
       "<div>\n",
       "<style scoped>\n",
       "    .dataframe tbody tr th:only-of-type {\n",
       "        vertical-align: middle;\n",
       "    }\n",
       "\n",
       "    .dataframe tbody tr th {\n",
       "        vertical-align: top;\n",
       "    }\n",
       "\n",
       "    .dataframe thead th {\n",
       "        text-align: right;\n",
       "    }\n",
       "</style>\n",
       "<table border=\"1\" class=\"dataframe\">\n",
       "  <thead>\n",
       "    <tr style=\"text-align: right;\">\n",
       "      <th></th>\n",
       "      <th>Timestamp</th>\n",
       "      <th>Open</th>\n",
       "      <th>Close</th>\n",
       "      <th>Volume</th>\n",
       "      <th>Adjclose</th>\n",
       "      <th>Change %</th>\n",
       "      <th>Date</th>\n",
       "      <th>Last Year</th>\n",
       "    </tr>\n",
       "  </thead>\n",
       "  <tbody>\n",
       "    <tr>\n",
       "      <td>0</td>\n",
       "      <td>1575250200</td>\n",
       "      <td>2874.449951</td>\n",
       "      <td>2875.810059</td>\n",
       "      <td>1.288000e+05</td>\n",
       "      <td>2875.810059</td>\n",
       "      <td>0.000473</td>\n",
       "      <td>2019-12-02</td>\n",
       "      <td>2018-12-02</td>\n",
       "    </tr>\n",
       "    <tr>\n",
       "      <td>1</td>\n",
       "      <td>1575336600</td>\n",
       "      <td>2869.879883</td>\n",
       "      <td>2884.699951</td>\n",
       "      <td>1.238000e+05</td>\n",
       "      <td>2884.699951</td>\n",
       "      <td>0.005164</td>\n",
       "      <td>2019-12-03</td>\n",
       "      <td>2018-12-03</td>\n",
       "    </tr>\n",
       "    <tr>\n",
       "      <td>2</td>\n",
       "      <td>1575423000</td>\n",
       "      <td>2876.907959</td>\n",
       "      <td>2878.115967</td>\n",
       "      <td>1.255000e+05</td>\n",
       "      <td>2878.115967</td>\n",
       "      <td>0.000420</td>\n",
       "      <td>2019-12-04</td>\n",
       "      <td>2018-12-04</td>\n",
       "    </tr>\n",
       "    <tr>\n",
       "      <td>3</td>\n",
       "      <td>1575509400</td>\n",
       "      <td>2886.516113</td>\n",
       "      <td>2899.468994</td>\n",
       "      <td>1.432000e+05</td>\n",
       "      <td>2899.468994</td>\n",
       "      <td>0.004487</td>\n",
       "      <td>2019-12-05</td>\n",
       "      <td>2018-12-05</td>\n",
       "    </tr>\n",
       "    <tr>\n",
       "      <td>4</td>\n",
       "      <td>1575595800</td>\n",
       "      <td>2902.278076</td>\n",
       "      <td>2912.013916</td>\n",
       "      <td>1.341000e+05</td>\n",
       "      <td>2912.013916</td>\n",
       "      <td>0.003355</td>\n",
       "      <td>2019-12-06</td>\n",
       "      <td>2018-12-06</td>\n",
       "    </tr>\n",
       "    <tr>\n",
       "      <td>...</td>\n",
       "      <td>...</td>\n",
       "      <td>...</td>\n",
       "      <td>...</td>\n",
       "      <td>...</td>\n",
       "      <td>...</td>\n",
       "      <td>...</td>\n",
       "      <td>...</td>\n",
       "      <td>...</td>\n",
       "    </tr>\n",
       "    <tr>\n",
       "      <td>71</td>\n",
       "      <td>1584581400</td>\n",
       "      <td>2719.406006</td>\n",
       "      <td>2702.129883</td>\n",
       "      <td>3.023000e+05</td>\n",
       "      <td>2702.129883</td>\n",
       "      <td>-0.006353</td>\n",
       "      <td>2020-03-19</td>\n",
       "      <td>2019-03-20</td>\n",
       "    </tr>\n",
       "    <tr>\n",
       "      <td>72</td>\n",
       "      <td>1584667800</td>\n",
       "      <td>2727.019043</td>\n",
       "      <td>2745.617920</td>\n",
       "      <td>2.520000e+05</td>\n",
       "      <td>2745.617920</td>\n",
       "      <td>0.006820</td>\n",
       "      <td>2020-03-20</td>\n",
       "      <td>2019-03-21</td>\n",
       "    </tr>\n",
       "    <tr>\n",
       "      <td>73</td>\n",
       "      <td>1584927000</td>\n",
       "      <td>2677.590088</td>\n",
       "      <td>2660.169922</td>\n",
       "      <td>2.498000e+05</td>\n",
       "      <td>2660.169922</td>\n",
       "      <td>-0.006506</td>\n",
       "      <td>2020-03-23</td>\n",
       "      <td>2019-03-24</td>\n",
       "    </tr>\n",
       "    <tr>\n",
       "      <td>74</td>\n",
       "      <td>1585013400</td>\n",
       "      <td>2703.019043</td>\n",
       "      <td>2722.437988</td>\n",
       "      <td>2.570000e+05</td>\n",
       "      <td>2722.437988</td>\n",
       "      <td>0.007184</td>\n",
       "      <td>2020-03-24</td>\n",
       "      <td>2019-03-25</td>\n",
       "    </tr>\n",
       "    <tr>\n",
       "      <td>75</td>\n",
       "      <td>1585119634</td>\n",
       "      <td>2775.303223</td>\n",
       "      <td>2781.591309</td>\n",
       "      <td>1.544643e+09</td>\n",
       "      <td>2781.591309</td>\n",
       "      <td>0.002266</td>\n",
       "      <td>2020-03-25</td>\n",
       "      <td>2019-03-26</td>\n",
       "    </tr>\n",
       "  </tbody>\n",
       "</table>\n",
       "<p>76 rows × 8 columns</p>\n",
       "</div>"
      ],
      "text/plain": [
       "     Timestamp         Open        Close        Volume     Adjclose  Change %  \\\n",
       "0   1575250200  2874.449951  2875.810059  1.288000e+05  2875.810059  0.000473   \n",
       "1   1575336600  2869.879883  2884.699951  1.238000e+05  2884.699951  0.005164   \n",
       "2   1575423000  2876.907959  2878.115967  1.255000e+05  2878.115967  0.000420   \n",
       "3   1575509400  2886.516113  2899.468994  1.432000e+05  2899.468994  0.004487   \n",
       "4   1575595800  2902.278076  2912.013916  1.341000e+05  2912.013916  0.003355   \n",
       "..         ...          ...          ...           ...          ...       ...   \n",
       "71  1584581400  2719.406006  2702.129883  3.023000e+05  2702.129883 -0.006353   \n",
       "72  1584667800  2727.019043  2745.617920  2.520000e+05  2745.617920  0.006820   \n",
       "73  1584927000  2677.590088  2660.169922  2.498000e+05  2660.169922 -0.006506   \n",
       "74  1585013400  2703.019043  2722.437988  2.570000e+05  2722.437988  0.007184   \n",
       "75  1585119634  2775.303223  2781.591309  1.544643e+09  2781.591309  0.002266   \n",
       "\n",
       "          Date  Last Year  \n",
       "0   2019-12-02 2018-12-02  \n",
       "1   2019-12-03 2018-12-03  \n",
       "2   2019-12-04 2018-12-04  \n",
       "3   2019-12-05 2018-12-05  \n",
       "4   2019-12-06 2018-12-06  \n",
       "..         ...        ...  \n",
       "71  2020-03-19 2019-03-20  \n",
       "72  2020-03-20 2019-03-21  \n",
       "73  2020-03-23 2019-03-24  \n",
       "74  2020-03-24 2019-03-25  \n",
       "75  2020-03-25 2019-03-26  \n",
       "\n",
       "[76 rows x 8 columns]"
      ]
     },
     "execution_count": 92,
     "metadata": {},
     "output_type": "execute_result"
    }
   ],
   "source": [
    "timestamp = response2.json()['chart']['result'][0]['timestamp']\n",
    "year_close = response2.json()['chart']['result'][0]['indicators']['quote'][0]['close']\n",
    "year_open =response2.json()['chart']['result'][0]['indicators']['quote'][0]['open']\n",
    "year_volume =response2.json()['chart']['result'][0]['indicators']['quote'][0]['volume']\n",
    "year_adjclose =response2.json()['chart']['result'][0]['indicators']['adjclose'][0]['adjclose']\n",
    "\n",
    "sseDict = {\"Timestamp\":timestamp,\n",
    "           \"Open\":year_open,\n",
    "          \"Close\":year_close,\n",
    "           \"Volume\":year_volume,\n",
    "          \"Adjclose\":year_adjclose\n",
    "          }\n",
    "sse_df = pd.DataFrame(sseDict)\n",
    "\n",
    "sse_df['Change %'] = (sse_df['Close']-sse_df['Open'])/sse_df['Open']\n",
    "\n",
    "convert_date = []\n",
    "convert_date = [datetime.datetime.utcfromtimestamp(sse_df['Timestamp'][x]).strftime('%Y-%m-%d') for x in range(0,len(sse_df['Timestamp']))]\n",
    "sse_df['Date'] = convert_date\n",
    "\n",
    "sse_df['Last Year'] =[datetime.datetime.strptime(sse_df['Date'][x],'%Y-%m-%d')-datetime.timedelta(365) for x in range(0,len(sse_df['Date']))]\n",
    "sse_df"
   ]
  },
  {
   "cell_type": "code",
   "execution_count": 93,
   "metadata": {},
   "outputs": [
    {
     "data": {
      "text/plain": [
       "<matplotlib.axes._subplots.AxesSubplot at 0x21b5e022188>"
      ]
     },
     "execution_count": 93,
     "metadata": {},
     "output_type": "execute_result"
    },
    {
     "data": {
      "image/png": "[encoded data removed]",
      "text/plain": [
       "<Figure size 432x288 with 1 Axes>"
      ]
     },
     "metadata": {
      "needs_background": "light"
     },
     "output_type": "display_data"
    }
   ],
   "source": [
    "sse_df[\"Close\"].plot()"
   ]
  },
  {
   "cell_type": "code",
   "execution_count": null,
   "metadata": {},
   "outputs": [],
   "source": []
  },
  {
   "cell_type": "code",
   "execution_count": null,
   "metadata": {},
   "outputs": [],
   "source": []
  }
 ],
 "metadata": {
  "kernelspec": {
   "display_name": "Python 3",
   "language": "python",
   "name": "python3"
  },
  "language_info": {
   "codemirror_mode": {
    "name": "ipython",
    "version": 3
   },
   "file_extension": ".py",
   "mimetype": "text/x-python",
   "name": "python",
   "nbconvert_exporter": "python",
   "pygments_lexer": "ipython3",
   "version": "3.7.4"
  }
 },
 "nbformat": 4,
 "nbformat_minor": 2
}
