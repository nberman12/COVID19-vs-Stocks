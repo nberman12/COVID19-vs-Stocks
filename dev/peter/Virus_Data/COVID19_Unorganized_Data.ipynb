{
 "cells": [
  {
   "cell_type": "code",
   "execution_count": 1,
   "metadata": {},
   "outputs": [],
   "source": [
    "from pprint import pprint\n",
    "import time\n",
    "import requests\n",
    "import pandas as pd\n",
    "import datetime\n",
    "import matplotlib.pyplot as plt"
   ]
  },
  {
   "cell_type": "markdown",
   "metadata": {},
   "source": [
    "# Unorganized Data"
   ]
  },
  {
   "cell_type": "code",
   "execution_count": 2,
   "metadata": {},
   "outputs": [],
   "source": [
    "#reading in all covid19 data\n",
    "time_series_ncov_Confirmed =pd.read_csv('../../../mvp/data/covid19_data/time_series-ncov-Confirmed.csv')\n",
    "time_series_ncov_Deaths = pd.read_csv('../../../mvp/data/covid19_data/time_series-ncov-Deaths.csv')\n",
    "time_series_ncov_Recovered =pd.read_csv('../../../mvp/data/covid19_data/time_series-ncov-Recovered.csv')"
   ]
  },
  {
   "cell_type": "code",
   "execution_count": 3,
   "metadata": {},
   "outputs": [
    {
     "data": {
      "text/html": [
       "<div>\n",
       "<style scoped>\n",
       "    .dataframe tbody tr th:only-of-type {\n",
       "        vertical-align: middle;\n",
       "    }\n",
       "\n",
       "    .dataframe tbody tr th {\n",
       "        vertical-align: top;\n",
       "    }\n",
       "\n",
       "    .dataframe thead th {\n",
       "        text-align: right;\n",
       "    }\n",
       "</style>\n",
       "<table border=\"1\" class=\"dataframe\">\n",
       "  <thead>\n",
       "    <tr style=\"text-align: right;\">\n",
       "      <th></th>\n",
       "      <th>Country/Region</th>\n",
       "      <th>Lat</th>\n",
       "      <th>Long</th>\n",
       "      <th>Date</th>\n",
       "      <th>Value</th>\n",
       "    </tr>\n",
       "  </thead>\n",
       "  <tbody>\n",
       "    <tr>\n",
       "      <td>0</td>\n",
       "      <td>#country+name</td>\n",
       "      <td>#geo+lat</td>\n",
       "      <td>#geo+lon</td>\n",
       "      <td>#date</td>\n",
       "      <td>#affected+infected+value+num</td>\n",
       "    </tr>\n",
       "    <tr>\n",
       "      <td>1</td>\n",
       "      <td>Afghanistan</td>\n",
       "      <td>33.0</td>\n",
       "      <td>65.0</td>\n",
       "      <td>2020-03-20</td>\n",
       "      <td>24</td>\n",
       "    </tr>\n",
       "    <tr>\n",
       "      <td>2</td>\n",
       "      <td>Afghanistan</td>\n",
       "      <td>33.0</td>\n",
       "      <td>65.0</td>\n",
       "      <td>2020-03-19</td>\n",
       "      <td>22</td>\n",
       "    </tr>\n",
       "    <tr>\n",
       "      <td>3</td>\n",
       "      <td>Afghanistan</td>\n",
       "      <td>33.0</td>\n",
       "      <td>65.0</td>\n",
       "      <td>2020-03-18</td>\n",
       "      <td>22</td>\n",
       "    </tr>\n",
       "    <tr>\n",
       "      <td>4</td>\n",
       "      <td>Afghanistan</td>\n",
       "      <td>33.0</td>\n",
       "      <td>65.0</td>\n",
       "      <td>2020-03-17</td>\n",
       "      <td>22</td>\n",
       "    </tr>\n",
       "  </tbody>\n",
       "</table>\n",
       "</div>"
      ],
      "text/plain": [
       "  Country/Region       Lat      Long        Date                         Value\n",
       "0  #country+name  #geo+lat  #geo+lon       #date  #affected+infected+value+num\n",
       "1    Afghanistan      33.0      65.0  2020-03-20                            24\n",
       "2    Afghanistan      33.0      65.0  2020-03-19                            22\n",
       "3    Afghanistan      33.0      65.0  2020-03-18                            22\n",
       "4    Afghanistan      33.0      65.0  2020-03-17                            22"
      ]
     },
     "execution_count": 3,
     "metadata": {},
     "output_type": "execute_result"
    }
   ],
   "source": [
    "#Removing Unecessary Columns in each data frame\n",
    "time_series_ncov_Confirmed =time_series_ncov_Confirmed.drop(columns =['Province/State'])\n",
    "time_series_ncov_Deaths =time_series_ncov_Deaths.drop(columns =['Province/State'])\n",
    "time_series_ncov_Recovered =time_series_ncov_Recovered.drop(columns =['Province/State'])\n",
    "time_series_ncov_Confirmed.head()"
   ]
  },
  {
   "cell_type": "code",
   "execution_count": 4,
   "metadata": {},
   "outputs": [
    {
     "data": {
      "text/html": [
       "<div>\n",
       "<style scoped>\n",
       "    .dataframe tbody tr th:only-of-type {\n",
       "        vertical-align: middle;\n",
       "    }\n",
       "\n",
       "    .dataframe tbody tr th {\n",
       "        vertical-align: top;\n",
       "    }\n",
       "\n",
       "    .dataframe thead th {\n",
       "        text-align: right;\n",
       "    }\n",
       "</style>\n",
       "<table border=\"1\" class=\"dataframe\">\n",
       "  <thead>\n",
       "    <tr style=\"text-align: right;\">\n",
       "      <th></th>\n",
       "      <th>Country/Region</th>\n",
       "      <th>Lat</th>\n",
       "      <th>Long</th>\n",
       "      <th>Date</th>\n",
       "      <th>Value</th>\n",
       "    </tr>\n",
       "  </thead>\n",
       "  <tbody>\n",
       "    <tr>\n",
       "      <td>1</td>\n",
       "      <td>Afghanistan</td>\n",
       "      <td>33.0</td>\n",
       "      <td>65.0</td>\n",
       "      <td>2020-03-20</td>\n",
       "      <td>0</td>\n",
       "    </tr>\n",
       "    <tr>\n",
       "      <td>2</td>\n",
       "      <td>Afghanistan</td>\n",
       "      <td>33.0</td>\n",
       "      <td>65.0</td>\n",
       "      <td>2020-03-19</td>\n",
       "      <td>0</td>\n",
       "    </tr>\n",
       "    <tr>\n",
       "      <td>3</td>\n",
       "      <td>Afghanistan</td>\n",
       "      <td>33.0</td>\n",
       "      <td>65.0</td>\n",
       "      <td>2020-03-18</td>\n",
       "      <td>0</td>\n",
       "    </tr>\n",
       "    <tr>\n",
       "      <td>4</td>\n",
       "      <td>Afghanistan</td>\n",
       "      <td>33.0</td>\n",
       "      <td>65.0</td>\n",
       "      <td>2020-03-17</td>\n",
       "      <td>0</td>\n",
       "    </tr>\n",
       "    <tr>\n",
       "      <td>5</td>\n",
       "      <td>Afghanistan</td>\n",
       "      <td>33.0</td>\n",
       "      <td>65.0</td>\n",
       "      <td>2020-03-16</td>\n",
       "      <td>0</td>\n",
       "    </tr>\n",
       "  </tbody>\n",
       "</table>\n",
       "</div>"
      ],
      "text/plain": [
       "  Country/Region   Lat  Long        Date Value\n",
       "1    Afghanistan  33.0  65.0  2020-03-20     0\n",
       "2    Afghanistan  33.0  65.0  2020-03-19     0\n",
       "3    Afghanistan  33.0  65.0  2020-03-18     0\n",
       "4    Afghanistan  33.0  65.0  2020-03-17     0\n",
       "5    Afghanistan  33.0  65.0  2020-03-16     0"
      ]
     },
     "execution_count": 4,
     "metadata": {},
     "output_type": "execute_result"
    }
   ],
   "source": [
    "#Removing unecessary rows in each data set\n",
    "\n",
    "time_series_ncov_Confirmed =time_series_ncov_Confirmed.drop([0], axis = 0)\n",
    "time_series_ncov_Deaths =time_series_ncov_Deaths.drop([0], axis = 0)\n",
    "time_series_ncov_Recovered =time_series_ncov_Recovered.drop([0], axis = 0)\n",
    "time_series_ncov_Deaths.head()"
   ]
  },
  {
   "cell_type": "code",
   "execution_count": 5,
   "metadata": {},
   "outputs": [
    {
     "data": {
      "text/plain": [
       "Country/Region    object\n",
       "Lat               object\n",
       "Long              object\n",
       "Date              object\n",
       "Value             object\n",
       "dtype: object"
      ]
     },
     "execution_count": 5,
     "metadata": {},
     "output_type": "execute_result"
    }
   ],
   "source": [
    "time_series_ncov_Confirmed.dtypes"
   ]
  },
  {
   "cell_type": "code",
   "execution_count": 6,
   "metadata": {},
   "outputs": [],
   "source": [
    "# Changing all value columns to numeric for analysis\n",
    "time_series_ncov_Confirmed[\"Value\"] = pd.to_numeric(time_series_ncov_Confirmed[\"Value\"])\n",
    "time_series_ncov_Deaths[\"Value\"] = pd.to_numeric(time_series_ncov_Deaths[\"Value\"])\n",
    "time_series_ncov_Recovered[\"Value\"] = pd.to_numeric(time_series_ncov_Recovered[\"Value\"])\n"
   ]
  },
  {
   "cell_type": "code",
   "execution_count": 7,
   "metadata": {},
   "outputs": [
    {
     "data": {
      "text/plain": [
       "Country/Region     object\n",
       "Lat                object\n",
       "Long               object\n",
       "Date               object\n",
       "Value             float64\n",
       "dtype: object"
      ]
     },
     "execution_count": 7,
     "metadata": {},
     "output_type": "execute_result"
    }
   ],
   "source": [
    "time_series_ncov_Confirmed.dtypes"
   ]
  },
  {
   "cell_type": "code",
   "execution_count": 8,
   "metadata": {},
   "outputs": [
    {
     "data": {
      "text/plain": [
       "array(['2020-03-20', '2020-03-19', '2020-03-18', '2020-03-17',\n",
       "       '2020-03-16', '2020-03-15', '2020-03-14', '2020-03-13',\n",
       "       '2020-03-12', '2020-03-11', '2020-03-10', '2020-03-09',\n",
       "       '2020-03-08', '2020-03-07', '2020-03-06', '2020-03-05',\n",
       "       '2020-03-04', '2020-03-03', '2020-03-02', '2020-03-01',\n",
       "       '2020-02-29', '2020-02-28', '2020-02-27', '2020-02-26',\n",
       "       '2020-02-25', '2020-02-24', '2020-02-23', '2020-02-22',\n",
       "       '2020-02-21', '2020-02-20', '2020-02-19', '2020-02-18',\n",
       "       '2020-02-17', '2020-02-16', '2020-02-15', '2020-02-14',\n",
       "       '2020-02-13', '2020-02-12', '2020-02-11', '2020-02-10',\n",
       "       '2020-02-09', '2020-02-08', '2020-02-07', '2020-02-06',\n",
       "       '2020-02-05', '2020-02-04', '2020-02-03', '2020-02-02',\n",
       "       '2020-02-01', '2020-01-31', '2020-01-30', '2020-01-29',\n",
       "       '2020-01-28', '2020-01-27', '2020-01-26', '2020-01-25',\n",
       "       '2020-01-24', '2020-01-23', '2020-01-22'], dtype=object)"
      ]
     },
     "execution_count": 8,
     "metadata": {},
     "output_type": "execute_result"
    }
   ],
   "source": [
    "Dates = time_series_ncov_Confirmed['Date'].unique()\n",
    "Dates"
   ]
  },
  {
   "cell_type": "code",
   "execution_count": 9,
   "metadata": {
    "scrolled": true
   },
   "outputs": [
    {
     "data": {
      "text/html": [
       "<div>\n",
       "<style scoped>\n",
       "    .dataframe tbody tr th:only-of-type {\n",
       "        vertical-align: middle;\n",
       "    }\n",
       "\n",
       "    .dataframe tbody tr th {\n",
       "        vertical-align: top;\n",
       "    }\n",
       "\n",
       "    .dataframe thead th {\n",
       "        text-align: right;\n",
       "    }\n",
       "</style>\n",
       "<table border=\"1\" class=\"dataframe\">\n",
       "  <thead>\n",
       "    <tr style=\"text-align: right;\">\n",
       "      <th></th>\n",
       "      <th>Country/Region</th>\n",
       "      <th>Lat</th>\n",
       "      <th>Long</th>\n",
       "      <th>Date</th>\n",
       "      <th>Confirmed Cases</th>\n",
       "    </tr>\n",
       "  </thead>\n",
       "  <tbody>\n",
       "    <tr>\n",
       "      <td>1</td>\n",
       "      <td>Afghanistan</td>\n",
       "      <td>33.0</td>\n",
       "      <td>65.0</td>\n",
       "      <td>2020-03-20</td>\n",
       "      <td>24.0</td>\n",
       "    </tr>\n",
       "    <tr>\n",
       "      <td>2</td>\n",
       "      <td>Afghanistan</td>\n",
       "      <td>33.0</td>\n",
       "      <td>65.0</td>\n",
       "      <td>2020-03-19</td>\n",
       "      <td>22.0</td>\n",
       "    </tr>\n",
       "    <tr>\n",
       "      <td>3</td>\n",
       "      <td>Afghanistan</td>\n",
       "      <td>33.0</td>\n",
       "      <td>65.0</td>\n",
       "      <td>2020-03-18</td>\n",
       "      <td>22.0</td>\n",
       "    </tr>\n",
       "    <tr>\n",
       "      <td>4</td>\n",
       "      <td>Afghanistan</td>\n",
       "      <td>33.0</td>\n",
       "      <td>65.0</td>\n",
       "      <td>2020-03-17</td>\n",
       "      <td>22.0</td>\n",
       "    </tr>\n",
       "    <tr>\n",
       "      <td>5</td>\n",
       "      <td>Afghanistan</td>\n",
       "      <td>33.0</td>\n",
       "      <td>65.0</td>\n",
       "      <td>2020-03-16</td>\n",
       "      <td>21.0</td>\n",
       "    </tr>\n",
       "  </tbody>\n",
       "</table>\n",
       "</div>"
      ],
      "text/plain": [
       "  Country/Region   Lat  Long        Date  Confirmed Cases\n",
       "1    Afghanistan  33.0  65.0  2020-03-20             24.0\n",
       "2    Afghanistan  33.0  65.0  2020-03-19             22.0\n",
       "3    Afghanistan  33.0  65.0  2020-03-18             22.0\n",
       "4    Afghanistan  33.0  65.0  2020-03-17             22.0\n",
       "5    Afghanistan  33.0  65.0  2020-03-16             21.0"
      ]
     },
     "execution_count": 9,
     "metadata": {},
     "output_type": "execute_result"
    }
   ],
   "source": [
    "#Renaming value columns to be easier to analyze\n",
    "\n",
    "time_series_ncov_Confirmed= time_series_ncov_Confirmed.rename(columns ={'Value':'Confirmed Cases'})\n",
    "time_series_ncov_Deaths= time_series_ncov_Deaths.rename(columns ={'Value':'Deaths'})\n",
    "time_series_ncov_Recovered= time_series_ncov_Recovered.rename(columns ={'Value':'Recoveries'})\n",
    "time_series_ncov_Confirmed.head()"
   ]
  },
  {
   "cell_type": "code",
   "execution_count": 10,
   "metadata": {},
   "outputs": [],
   "source": [
    "#time_series_ncov_Deaths= time_series_ncov_Deaths.drop(columns =['Lat','Long'])\n",
    "#time_series_ncov_Recovered= time_series_ncov_Recovered.drop(columns =['Lat','Long'])\n"
   ]
  },
  {
   "cell_type": "code",
   "execution_count": 11,
   "metadata": {},
   "outputs": [
    {
     "data": {
      "text/html": [
       "<div>\n",
       "<style scoped>\n",
       "    .dataframe tbody tr th:only-of-type {\n",
       "        vertical-align: middle;\n",
       "    }\n",
       "\n",
       "    .dataframe tbody tr th {\n",
       "        vertical-align: top;\n",
       "    }\n",
       "\n",
       "    .dataframe thead th {\n",
       "        text-align: right;\n",
       "    }\n",
       "</style>\n",
       "<table border=\"1\" class=\"dataframe\">\n",
       "  <thead>\n",
       "    <tr style=\"text-align: right;\">\n",
       "      <th></th>\n",
       "      <th></th>\n",
       "      <th>Confirmed Cases</th>\n",
       "      <th>Deaths</th>\n",
       "      <th>Recoveries</th>\n",
       "    </tr>\n",
       "    <tr>\n",
       "      <th>Country/Region</th>\n",
       "      <th>Date</th>\n",
       "      <th></th>\n",
       "      <th></th>\n",
       "      <th></th>\n",
       "    </tr>\n",
       "  </thead>\n",
       "  <tbody>\n",
       "    <tr>\n",
       "      <td rowspan=\"5\" valign=\"top\">Afghanistan</td>\n",
       "      <td>2020-01-22</td>\n",
       "      <td>0.0</td>\n",
       "      <td>0.0</td>\n",
       "      <td>0.0</td>\n",
       "    </tr>\n",
       "    <tr>\n",
       "      <td>2020-01-23</td>\n",
       "      <td>0.0</td>\n",
       "      <td>0.0</td>\n",
       "      <td>0.0</td>\n",
       "    </tr>\n",
       "    <tr>\n",
       "      <td>2020-01-24</td>\n",
       "      <td>0.0</td>\n",
       "      <td>0.0</td>\n",
       "      <td>0.0</td>\n",
       "    </tr>\n",
       "    <tr>\n",
       "      <td>2020-01-25</td>\n",
       "      <td>0.0</td>\n",
       "      <td>0.0</td>\n",
       "      <td>0.0</td>\n",
       "    </tr>\n",
       "    <tr>\n",
       "      <td>2020-01-26</td>\n",
       "      <td>0.0</td>\n",
       "      <td>0.0</td>\n",
       "      <td>0.0</td>\n",
       "    </tr>\n",
       "  </tbody>\n",
       "</table>\n",
       "</div>"
      ],
      "text/plain": [
       "                           Confirmed Cases  Deaths  Recoveries\n",
       "Country/Region Date                                           \n",
       "Afghanistan    2020-01-22              0.0     0.0         0.0\n",
       "               2020-01-23              0.0     0.0         0.0\n",
       "               2020-01-24              0.0     0.0         0.0\n",
       "               2020-01-25              0.0     0.0         0.0\n",
       "               2020-01-26              0.0     0.0         0.0"
      ]
     },
     "execution_count": 11,
     "metadata": {},
     "output_type": "execute_result"
    }
   ],
   "source": [
    "#Grouping all dataframes by country/region and the date to get total values for each data set\n",
    "\n",
    "time_series_nconv_Confirmed = time_series_ncov_Confirmed.groupby(['Country/Region','Date']).sum()['Confirmed Cases']\n",
    "time_series_nconv_Deaths = time_series_ncov_Deaths.groupby(['Country/Region','Date']).sum()['Deaths']\n",
    "time_series_nconv_Recovered = time_series_ncov_Recovered.groupby(['Country/Region','Date']).sum()['Recoveries']\n",
    "\n",
    "confirmed_all = pd.DataFrame({\n",
    "    \"Confirmed Cases\": time_series_nconv_Confirmed,\n",
    "    \"Deaths\": time_series_nconv_Deaths,\n",
    "    \"Recoveries\": time_series_nconv_Recovered\n",
    "})\n",
    "confirmed_all.head()\n"
   ]
  },
  {
   "cell_type": "code",
   "execution_count": 14,
   "metadata": {},
   "outputs": [
    {
     "data": {
      "text/plain": [
       "Country/Region  Date      \n",
       "Italy           2020-01-22    0.0\n",
       "                2020-01-23    0.0\n",
       "                2020-01-24    0.0\n",
       "                2020-01-25    0.0\n",
       "                2020-01-26    0.0\n",
       "Name: Confirmed Cases, dtype: float64"
      ]
     },
     "execution_count": 14,
     "metadata": {},
     "output_type": "execute_result"
    }
   ],
   "source": [
    "confirmed_all.loc[[\"Italy\"]][\"Confirmed Cases\"].head()"
   ]
  },
  {
   "cell_type": "code",
   "execution_count": 16,
   "metadata": {
    "scrolled": true
   },
   "outputs": [
    {
     "data": {
      "text/html": [
       "<div>\n",
       "<style scoped>\n",
       "    .dataframe tbody tr th:only-of-type {\n",
       "        vertical-align: middle;\n",
       "    }\n",
       "\n",
       "    .dataframe tbody tr th {\n",
       "        vertical-align: top;\n",
       "    }\n",
       "\n",
       "    .dataframe thead th {\n",
       "        text-align: right;\n",
       "    }\n",
       "</style>\n",
       "<table border=\"1\" class=\"dataframe\">\n",
       "  <thead>\n",
       "    <tr style=\"text-align: right;\">\n",
       "      <th></th>\n",
       "      <th>x</th>\n",
       "      <th>y1</th>\n",
       "      <th>y2</th>\n",
       "      <th>y3</th>\n",
       "    </tr>\n",
       "  </thead>\n",
       "  <tbody>\n",
       "    <tr>\n",
       "      <td>0</td>\n",
       "      <td>2020-03-20</td>\n",
       "      <td>NaN</td>\n",
       "      <td>NaN</td>\n",
       "      <td>NaN</td>\n",
       "    </tr>\n",
       "    <tr>\n",
       "      <td>1</td>\n",
       "      <td>2020-03-19</td>\n",
       "      <td>NaN</td>\n",
       "      <td>NaN</td>\n",
       "      <td>NaN</td>\n",
       "    </tr>\n",
       "    <tr>\n",
       "      <td>2</td>\n",
       "      <td>2020-03-18</td>\n",
       "      <td>NaN</td>\n",
       "      <td>NaN</td>\n",
       "      <td>NaN</td>\n",
       "    </tr>\n",
       "    <tr>\n",
       "      <td>3</td>\n",
       "      <td>2020-03-17</td>\n",
       "      <td>NaN</td>\n",
       "      <td>NaN</td>\n",
       "      <td>NaN</td>\n",
       "    </tr>\n",
       "    <tr>\n",
       "      <td>4</td>\n",
       "      <td>2020-03-16</td>\n",
       "      <td>NaN</td>\n",
       "      <td>NaN</td>\n",
       "      <td>NaN</td>\n",
       "    </tr>\n",
       "    <tr>\n",
       "      <td>...</td>\n",
       "      <td>...</td>\n",
       "      <td>...</td>\n",
       "      <td>...</td>\n",
       "      <td>...</td>\n",
       "    </tr>\n",
       "    <tr>\n",
       "      <td>9730</td>\n",
       "      <td>NaN</td>\n",
       "      <td>NaN</td>\n",
       "      <td>4632.0</td>\n",
       "      <td>NaN</td>\n",
       "    </tr>\n",
       "    <tr>\n",
       "      <td>9731</td>\n",
       "      <td>NaN</td>\n",
       "      <td>NaN</td>\n",
       "      <td>6421.0</td>\n",
       "      <td>NaN</td>\n",
       "    </tr>\n",
       "    <tr>\n",
       "      <td>9732</td>\n",
       "      <td>NaN</td>\n",
       "      <td>NaN</td>\n",
       "      <td>7783.0</td>\n",
       "      <td>NaN</td>\n",
       "    </tr>\n",
       "    <tr>\n",
       "      <td>9733</td>\n",
       "      <td>NaN</td>\n",
       "      <td>NaN</td>\n",
       "      <td>13677.0</td>\n",
       "      <td>NaN</td>\n",
       "    </tr>\n",
       "    <tr>\n",
       "      <td>9734</td>\n",
       "      <td>NaN</td>\n",
       "      <td>NaN</td>\n",
       "      <td>19101.0</td>\n",
       "      <td>NaN</td>\n",
       "    </tr>\n",
       "  </tbody>\n",
       "</table>\n",
       "<p>236 rows × 4 columns</p>\n",
       "</div>"
      ],
      "text/plain": [
       "               x  y1       y2  y3\n",
       "0     2020-03-20 NaN      NaN NaN\n",
       "1     2020-03-19 NaN      NaN NaN\n",
       "2     2020-03-18 NaN      NaN NaN\n",
       "3     2020-03-17 NaN      NaN NaN\n",
       "4     2020-03-16 NaN      NaN NaN\n",
       "...          ...  ..      ...  ..\n",
       "9730         NaN NaN   4632.0 NaN\n",
       "9731         NaN NaN   6421.0 NaN\n",
       "9732         NaN NaN   7783.0 NaN\n",
       "9733         NaN NaN  13677.0 NaN\n",
       "9734         NaN NaN  19101.0 NaN\n",
       "\n",
       "[236 rows x 4 columns]"
      ]
     },
     "execution_count": 16,
     "metadata": {},
     "output_type": "execute_result"
    }
   ],
   "source": [
    "# Data\n",
    "confirmed_all.reset_index(inplace=True)\n",
    "df=pd.DataFrame({\n",
    "    'x': pd.Series(Dates),\n",
    "    'y1': confirmed_all.loc[confirmed_all['Country/Region'] == 'Italy']['Confirmed Cases'], \n",
    "    'y2': confirmed_all.loc[confirmed_all['Country/Region'] == 'US']['Confirmed Cases'],\n",
    "    'y3': confirmed_all.loc[confirmed_all['Country/Region'] == 'China']['Confirmed Cases']\n",
    "})\n",
    "df\n",
    "#df=pd.confirmed_all({'x': range(1,11), 'y1': confirmed_all.loc, 'y2': np.random.randn(10)+range(1,11), 'y3': np.random.randn(10)+range(11,21) })\n",
    "\n",
    "#plt.plot('x','y1', data = df, markerfacecolor='blue', markersize=12, color='skyblue', linewidth=4)\n",
    "#plt.plot('x','y2',data = df, markerfacecolor='red', markersize=12, color='red', linewidth=4)\n",
    "#plt.plot('x','y3',data = df, markerfacecolor='orange', markersize=12, color='orange', linewidth=4)\n",
    "\n",
    "# # multiple line plot\n",
    "# plt.plot( 'x', 'y1', data=df, marker='o', markerfacecolor='blue', markersize=12, color='skyblue', linewidth=4)\n",
    "# plt.plot( 'x', 'y2', data=df, marker='', color='olive', linewidth=2)\n",
    "# plt.plot( 'x', 'y3', data=df, marker='', color='olive', linewidth=2, linestyle='dashed', label=\"toto\")\n",
    "# plt.legend()\n"
   ]
  },
  {
   "cell_type": "code",
   "execution_count": 14,
   "metadata": {},
   "outputs": [
    {
     "data": {
      "text/plain": [
       "<Figure size 432x288 with 0 Axes>"
      ]
     },
     "metadata": {},
     "output_type": "display_data"
    },
    {
     "data": {
      "image/png": "[encoded data removed]",
      "text/plain": [
       "<Figure size 432x288 with 1 Axes>"
      ]
     },
     "metadata": {
      "needs_background": "light"
     },
     "output_type": "display_data"
    },
    {
     "data": {
      "image/png": "[encoded data removed]",
      "text/plain": [
       "<Figure size 432x288 with 1 Axes>"
      ]
     },
     "metadata": {
      "needs_background": "light"
     },
     "output_type": "display_data"
    },
    {
     "data": {
      "image/png": "[encoded data removed]",
      "text/plain": [
       "<Figure size 432x288 with 1 Axes>"
      ]
     },
     "metadata": {
      "needs_background": "light"
     },
     "output_type": "display_data"
    }
   ],
   "source": [
    "plt.figure()\n",
    "confirmed_all.loc[['Italy']].plot( y='Confirmed Cases', use_index = True)\n",
    "confirmed_all.loc[['China']].plot( y='Confirmed Cases', use_index = True)\n",
    "confirmed_all.loc[['US']].plot( y='Confirmed Cases', use_index = True)\n",
    "plt.show()\n",
    "# three_countries_df.plot.line(y = confirmed_all.loc['Italy']\"Confirmed Cases\", legend = True) \n",
    "# plt.gca().invert_xaxis()\n",
    "# plt.xlabel(\"Date\")\n",
    "# plt.ylabel(\"Confirmed Cases\")\n",
    "# plt.title(\"Confirmed Cases By Date\")\n",
    "# plt.show()"
   ]
  },
  {
   "cell_type": "code",
   "execution_count": 33,
   "metadata": {},
   "outputs": [
    {
     "data": {
      "text/html": [
       "<div>\n",
       "<style scoped>\n",
       "    .dataframe tbody tr th:only-of-type {\n",
       "        vertical-align: middle;\n",
       "    }\n",
       "\n",
       "    .dataframe tbody tr th {\n",
       "        vertical-align: top;\n",
       "    }\n",
       "\n",
       "    .dataframe thead th {\n",
       "        text-align: right;\n",
       "    }\n",
       "</style>\n",
       "<table border=\"1\" class=\"dataframe\">\n",
       "  <thead>\n",
       "    <tr style=\"text-align: right;\">\n",
       "      <th></th>\n",
       "      <th>Confirmed Cases</th>\n",
       "      <th>Deaths</th>\n",
       "      <th>Recoveries</th>\n",
       "    </tr>\n",
       "    <tr>\n",
       "      <th>Date</th>\n",
       "      <th></th>\n",
       "      <th></th>\n",
       "      <th></th>\n",
       "    </tr>\n",
       "  </thead>\n",
       "  <tbody>\n",
       "    <tr>\n",
       "      <td>2020-01-22</td>\n",
       "      <td>0.0</td>\n",
       "      <td>0.0</td>\n",
       "      <td>0.0</td>\n",
       "    </tr>\n",
       "    <tr>\n",
       "      <td>2020-01-23</td>\n",
       "      <td>0.0</td>\n",
       "      <td>0.0</td>\n",
       "      <td>0.0</td>\n",
       "    </tr>\n",
       "    <tr>\n",
       "      <td>2020-01-24</td>\n",
       "      <td>0.0</td>\n",
       "      <td>0.0</td>\n",
       "      <td>0.0</td>\n",
       "    </tr>\n",
       "    <tr>\n",
       "      <td>2020-01-25</td>\n",
       "      <td>0.0</td>\n",
       "      <td>0.0</td>\n",
       "      <td>0.0</td>\n",
       "    </tr>\n",
       "    <tr>\n",
       "      <td>2020-01-26</td>\n",
       "      <td>0.0</td>\n",
       "      <td>0.0</td>\n",
       "      <td>0.0</td>\n",
       "    </tr>\n",
       "  </tbody>\n",
       "</table>\n",
       "</div>"
      ],
      "text/plain": [
       "            Confirmed Cases  Deaths  Recoveries\n",
       "Date                                           \n",
       "2020-01-22              0.0     0.0         0.0\n",
       "2020-01-23              0.0     0.0         0.0\n",
       "2020-01-24              0.0     0.0         0.0\n",
       "2020-01-25              0.0     0.0         0.0\n",
       "2020-01-26              0.0     0.0         0.0"
      ]
     },
     "execution_count": 33,
     "metadata": {},
     "output_type": "execute_result"
    }
   ],
   "source": [
    "italy.head()"
   ]
  },
  {
   "cell_type": "code",
   "execution_count": 11,
   "metadata": {},
   "outputs": [
    {
     "data": {
      "image/png": "[encoded data removed]",
      "text/plain": [
       "<Figure size 432x288 with 1 Axes>"
      ]
     },
     "metadata": {
      "needs_background": "light"
     },
     "output_type": "display_data"
    },
    {
     "data": {
      "image/png": "[encoded data removed]",
      "text/plain": [
       "<Figure size 432x288 with 1 Axes>"
      ]
     },
     "metadata": {
      "needs_background": "light"
     },
     "output_type": "display_data"
    }
   ],
   "source": [
    "#This cell is to group and chart Italian confirmed cases\n",
    "italy = time_series_ncov_Confirmed.loc[time_series_ncov_Confirmed['Country/Region']==\"Italy\",:]\n",
    "italy_confirm_value = italy[\"Confirmed Cases\"]\n",
    "italy_date = italy[\"Date\"]\n",
    "\n",
    "italy_df = pd.DataFrame({\n",
    "    \"Date\": italy_date,\n",
    "    \"Confirmed Cases\": italy_confirm_value\n",
    "})\n",
    "\n",
    "italy_df.plot.line(x = \"Date\",y = \"Confirmed Cases\",legend = False)\n",
    "plt.gca().invert_xaxis()\n",
    "plt.xlabel(\"Date\")\n",
    "plt.ylabel(\"Confirmed Cases\")\n",
    "plt.title(\"Italy Confirmed Cases By Date\")\n",
    "plt.show()\n",
    "\n",
    "\n",
    "china = time_series_ncov_Confirmed.loc[time_series_ncov_Confirmed['Country/Region']==\"China\",:]\n",
    "china_confirm_value = china[\"Confirmed Cases\"]\n",
    "china_date = china[\"Date\"]\n",
    "\n",
    "china_df = pd.DataFrame({\n",
    "    \"Date\": china_date,\n",
    "    \"Confirmed Cases\": china_confirm_value\n",
    "})\n",
    "\n",
    "china_df.plot.line(x = \"Date\",y = \"Confirmed Cases\",legend = False)\n",
    "plt.gca().invert_xaxis()\n",
    "plt.xlabel(\"Date\")\n",
    "plt.ylabel(\"Confirmed Cases\")\n",
    "plt.title(\"China Confirmed Cases By Date\")\n",
    "plt.show()"
   ]
  },
  {
   "cell_type": "code",
   "execution_count": null,
   "metadata": {},
   "outputs": [],
   "source": [
    "italy = time_series_ncov_Deaths.loc[time_series_ncov_Deaths['Country/Region']==\"Italy\",:]\n",
    "italy_death_value = italy[\"Deaths\"]\n",
    "italy_date = italy[\"Date\"]\n",
    "\n",
    "italy_df = pd.DataFrame({\n",
    "    \"Date\": italy_date,\n",
    "    \"Deaths\": italy_death_value\n",
    "})\n",
    "\n",
    "italy_df.plot.line(x = \"Date\",y = \"Deaths\",legend = False)\n",
    "plt.gca().invert_xaxis()\n",
    "plt.xlabel(\"Date\")\n",
    "plt.ylabel(\"Deaths\")\n",
    "plt.title(\"Italy Death Cases By Date\")\n",
    "plt.show()"
   ]
  },
  {
   "cell_type": "code",
   "execution_count": null,
   "metadata": {},
   "outputs": [],
   "source": [
    "italy = time_series_ncov_Recovered.loc[time_series_ncov_Recovered['Country/Region']==\"Italy\",:]\n",
    "italy_recover_value = italy[\"Recoveries\"]\n",
    "italy_date = italy[\"Date\"]\n",
    "\n",
    "italy_df = pd.DataFrame({\n",
    "    \"Date\": italy_date,\n",
    "    \"Recoveries\": italy_recover_value\n",
    "})\n",
    "\n",
    "italy_df.plot.line(x = \"Date\",y = \"Recoveries\",legend = False)\n",
    "plt.gca().invert_xaxis()\n",
    "plt.xlabel(\"Date\")\n",
    "plt.ylabel(\"Recoveries\")\n",
    "plt.title(\"Italy Recovery Cases By Date\")\n",
    "plt.show()"
   ]
  },
  {
   "cell_type": "code",
   "execution_count": null,
   "metadata": {},
   "outputs": [],
   "source": []
  },
  {
   "cell_type": "code",
   "execution_count": null,
   "metadata": {},
   "outputs": [],
   "source": []
  },
  {
   "cell_type": "code",
   "execution_count": null,
   "metadata": {},
   "outputs": [],
   "source": []
  }
 ],
 "metadata": {
  "kernelspec": {
   "display_name": "Python 3",
   "language": "python",
   "name": "python3"
  },
  "language_info": {
   "codemirror_mode": {
    "name": "ipython",
    "version": 3
   },
   "file_extension": ".py",
   "mimetype": "text/x-python",
   "name": "python",
   "nbconvert_exporter": "python",
   "pygments_lexer": "ipython3",
   "version": "3.7.4"
  }
 },
 "nbformat": 4,
 "nbformat_minor": 2
}
